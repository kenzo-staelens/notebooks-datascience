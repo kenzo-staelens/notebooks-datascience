{
 "cells": [
  {
   "cell_type": "markdown",
   "metadata": {},
   "source": [
    "## Labo Week 3 : Pandas "
   ]
  },
  {
   "cell_type": "code",
   "execution_count": 1,
   "metadata": {},
   "outputs": [],
   "source": [
    "import pandas as pd\n",
    "import numpy as np\n",
    "import random\n",
    "import matplotlib.pyplot as plt"
   ]
  },
  {
   "cell_type": "markdown",
   "metadata": {},
   "source": [
    "#### Deel 1 : Basic Pandas"
   ]
  },
  {
   "cell_type": "markdown",
   "metadata": {},
   "source": [
    "Een Pandas Dataframe is een datastructuur om 2 dimensionele data met bijbehorende labels voor rijen en kolommen te bewaren. Je kan ze zeker vergelijken met SQL-tabellen maar de verwerking ervan en het gebruik is eenvoudiger en sneller.\n",
    "\n",
    "Een Pandas Serie is een 1 dimensionale array met bijbehorend label. Ze vormen de basisblokken van een dataframe, dus bekijken we deze eerst.\n"
   ]
  },
  {
   "cell_type": "markdown",
   "metadata": {},
   "source": [
    "__Oefening 1__ Pandas Series basics\n",
    "\n",
    "**1.1**  Genereer een serie1 vertrekkende van een lijst. Maak een eerst een lijst aan met alle letters van het alfabet. Zet deze lijst om naar een serie. Druk de eerste en laatste elementen van de serie uit. Vraag apart de labels en de waarden van de serie op.\n",
    "\n",
    "**1.2**  Genereer een serie2 vertrekkende van een numpy array. Maak eerst een numpy array met hierin de cijfers van 1 tot 26. Zet deze array om naar een serie. Druk de eerste en laatste elementen van de serie uit. Labels hoeven zeker niet numeriek te zijn. Gebruik nu hoofdletters van het alfabet als label/ index waarden voor serie2. \n",
    "\n",
    "**1.3** Genereer een serie3 vertrekkende van een dict. Maak eerst een dictionary met als key de cijfers van 1 tot 26 en als value de letters van het alfabet. Zet deze dict om naar een serie. Druk de eerste en laatste elementen van de serie uit. Vraag de shape en de dimensies op van deze serie en geef de index en data values van serie 3 een naam (name attribute).\n",
    "\n",
    "**1.4** Selecteren en bewerken van elementen in een serie :\n",
    "\n",
    "    * geef alle elementen van serie1 die zich op index posities $0,4,8,14$ en $20$ bevinden\n",
    "    * geef alle klinkers uit serie1, doe dit via de `isin` membership functie\n",
    "    * geef alle elementen van serie2 die zich op het label 'M', 'N', 'O' en 'P' bevinden\n",
    "    * geef alle elementen van serie3 vanaf index positie 12\n",
    "    * geef alle elementen van serie1 die ook in serie 3 aanwezig zijn\n",
    "    * geef alle elementen van serie2 die niet in serie 3 aanwezig zijn\n",
    "    * verdubbel elke waarde van serie 2\n",
    "    * Sorteer de elementen van serie3 in omgekeerde volgorde van het label / index\n",
    "\n",
    "_Tip_ zie ook <https://towardsdatascience.com/a-practical-introduction-to-pandas-series-9915521cdc69>\n"
   ]
  },
  {
   "cell_type": "code",
   "execution_count": 2,
   "metadata": {},
   "outputs": [],
   "source": [
    "letters = [chr(ord('a')+x) for x in range(26)]\n",
    "numbers = np.array([x for x in range(1,27)])# np.arange(1,27)\n",
    "dictionary = {key:value for (key,value) in zip(numbers,letters)}\n",
    "serie1 = pd.Series(letters)\n",
    "serie2 = pd.Series(numbers, index=letters)\n",
    "#serie3 = pd.Series(numbers, index = letters)\n",
    "serie3 = pd.Series(dictionary)"
   ]
  },
  {
   "cell_type": "code",
   "execution_count": 3,
   "metadata": {},
   "outputs": [
    {
     "data": {
      "text/plain": [
       "0    a\n",
       "1    b\n",
       "2    c\n",
       "3    d\n",
       "4    e\n",
       "dtype: object"
      ]
     },
     "execution_count": 3,
     "metadata": {},
     "output_type": "execute_result"
    }
   ],
   "source": [
    "serie1.head()"
   ]
  },
  {
   "cell_type": "code",
   "execution_count": 4,
   "metadata": {},
   "outputs": [
    {
     "data": {
      "text/plain": [
       "v    22\n",
       "w    23\n",
       "x    24\n",
       "y    25\n",
       "z    26\n",
       "dtype: int32"
      ]
     },
     "execution_count": 4,
     "metadata": {},
     "output_type": "execute_result"
    }
   ],
   "source": [
    "serie2.tail()"
   ]
  },
  {
   "cell_type": "code",
   "execution_count": 5,
   "metadata": {},
   "outputs": [
    {
     "data": {
      "text/plain": [
       "1    a\n",
       "2    b\n",
       "3    c\n",
       "4    d\n",
       "5    e\n",
       "dtype: object"
      ]
     },
     "execution_count": 5,
     "metadata": {},
     "output_type": "execute_result"
    }
   ],
   "source": [
    "serie3.head()"
   ]
  },
  {
   "cell_type": "code",
   "execution_count": 6,
   "metadata": {},
   "outputs": [
    {
     "data": {
      "text/plain": [
       "0     a\n",
       "4     e\n",
       "8     i\n",
       "14    o\n",
       "20    u\n",
       "dtype: object"
      ]
     },
     "execution_count": 6,
     "metadata": {},
     "output_type": "execute_result"
    }
   ],
   "source": [
    "serie1[[0,4,8,14,20]]"
   ]
  },
  {
   "cell_type": "code",
   "execution_count": 7,
   "metadata": {},
   "outputs": [
    {
     "data": {
      "text/plain": [
       "0     a\n",
       "4     e\n",
       "8     i\n",
       "14    o\n",
       "20    u\n",
       "dtype: object"
      ]
     },
     "execution_count": 7,
     "metadata": {},
     "output_type": "execute_result"
    }
   ],
   "source": [
    "serie1[serie1.isin(['a','e','i','o','u'])]"
   ]
  },
  {
   "cell_type": "code",
   "execution_count": 8,
   "metadata": {},
   "outputs": [
    {
     "data": {
      "text/plain": [
       "volgnummer\n",
       "1    a\n",
       "2    b\n",
       "3    c\n",
       "4    d\n",
       "5    e\n",
       "Name: letters, dtype: object"
      ]
     },
     "execution_count": 8,
     "metadata": {},
     "output_type": "execute_result"
    }
   ],
   "source": [
    "serie3.name = \"letters\"\n",
    "serie3.index.name = \"volgnummer\"\n",
    "serie3.head()"
   ]
  },
  {
   "cell_type": "code",
   "execution_count": 9,
   "metadata": {},
   "outputs": [
    {
     "data": {
      "text/plain": [
       "m    13\n",
       "n    14\n",
       "o    15\n",
       "p    16\n",
       "dtype: int32"
      ]
     },
     "execution_count": 9,
     "metadata": {},
     "output_type": "execute_result"
    }
   ],
   "source": [
    "serie2[['m','n','o','p']]"
   ]
  },
  {
   "cell_type": "code",
   "execution_count": 10,
   "metadata": {},
   "outputs": [
    {
     "data": {
      "text/plain": [
       "volgnummer\n",
       "13    m\n",
       "14    n\n",
       "15    o\n",
       "16    p\n",
       "17    q\n",
       "18    r\n",
       "19    s\n",
       "20    t\n",
       "21    u\n",
       "22    v\n",
       "23    w\n",
       "24    x\n",
       "25    y\n",
       "26    z\n",
       "Name: letters, dtype: object"
      ]
     },
     "execution_count": 10,
     "metadata": {},
     "output_type": "execute_result"
    }
   ],
   "source": [
    "serie3[12:]#vanaf index* 12"
   ]
  },
  {
   "cell_type": "code",
   "execution_count": 11,
   "metadata": {},
   "outputs": [
    {
     "name": "stdout",
     "output_type": "stream",
     "text": [
      "0    a\n",
      "1    b\n",
      "2    c\n",
      "3    d\n",
      "4    e\n",
      "dtype: object\n",
      "a    1\n",
      "b    2\n",
      "c    3\n",
      "d    4\n",
      "e    5\n",
      "dtype: int32\n"
     ]
    }
   ],
   "source": [
    "print(serie1[serie1.isin(serie3)].head())#so happens to be all\n",
    "print(serie2[~serie2.isin(serie3)].head())#not met ~"
   ]
  },
  {
   "cell_type": "code",
   "execution_count": 12,
   "metadata": {},
   "outputs": [
    {
     "name": "stdout",
     "output_type": "stream",
     "text": [
      "a     2\n",
      "b     4\n",
      "c     6\n",
      "d     8\n",
      "e    10\n",
      "dtype: int64\n"
     ]
    }
   ],
   "source": [
    "#res = serie2*2\n",
    "#res\n",
    "print(serie2.apply(lambda x: x*2).head())#niet in place"
   ]
  },
  {
   "cell_type": "code",
   "execution_count": 13,
   "metadata": {},
   "outputs": [
    {
     "name": "stdout",
     "output_type": "stream",
     "text": [
      "volgnummer\n",
      "26    z\n",
      "25    y\n",
      "24    x\n",
      "23    w\n",
      "22    v\n",
      "Name: letters, dtype: object\n",
      "volgnummer\n",
      "1    a\n",
      "2    b\n",
      "3    c\n",
      "4    d\n",
      "5    e\n",
      "Name: letters, dtype: object\n"
     ]
    }
   ],
   "source": [
    "print(serie3.sort_values(ascending=False).head())#inplace=False\n",
    "print(serie3.head())"
   ]
  },
  {
   "cell_type": "markdown",
   "metadata": {},
   "source": [
    "__Oefening 2__ Pandas Dataframe basics\n",
    "\n",
    "**2.1** Maak volgende datastructuren aan :\n",
    "\n",
    "    * Een pandas serie met 20 stukken fruit random opgevuld uit dit lijstje : apple, lemon, banana, kiwi, strawberry, pineapple. Uiteraard zal deze serie dubbels bevatten\n",
    "    \n",
    "    * Een pandas serie met 20 random gewichten in g voor deze stukken fruit. Gebruik 1 van de numpy $random$ methodes om 20 random gewichten te genereren.\n",
    "    \n",
    "    * Een dictionary met data over het vitamine C gehalte van deze stukken fruit. Per 100 gr zijn dit de vitamine C gehaltes van de stukken fruit.\n",
    "     apple: 4.6 mg,  lemon: 53mg , banana: 8.7 mg, kiwi: 92.7 mg, strawberry : 58.8 mg, pineapple: 47,8 mg. \n",
    "\n",
    "**2.2** Maak een dataframe op basis van de 2 series. Vraag afzonderlijk de rij en kolom labels op. Vraag tevens dimensie, size en shape op.\n",
    "\n",
    "**2.3** Gebruik zowel `.loc` als `.iloc` om volgende data uit de dataframe te selecteren :\n",
    "\n",
    "    * Selecteer alle data uit de kolom 'fruit'\n",
    "    * Selecteer alle data uit de rijen 5 t.e.m 8\n",
    "    * Selecteer alle rijen met even index\n",
    "    * Selecteer allen de data uit de 'weights' kolom en dit voor de laatste 4 rijen.\n",
    "\n",
    "**2.4** Voeg een extra kolom 'total_vitamines' toe aan je dataframe met het juiste vitamine C gehalte voor de gegeven hoeveelheid van een bepaalde fruitsoort. \n",
    "\n",
    "**2.5** Geef per soort fruit het gemiddeld gewicht en het gemiddeld aantal vitamines aanwezig in de dataset. \n",
    "\n",
    "**2.6** Verwijder alle rijen uit de tabel, die van type banaan zijn. Verwijder tenslotte ook de kolom 'weights' uit je tabel."
   ]
  },
  {
   "cell_type": "code",
   "execution_count": 14,
   "metadata": {},
   "outputs": [],
   "source": [
    "N=20\n",
    "fruit = pd.Series(random.choices(['apple','lemon','banana','kiwi','strawberry','pineapple'],k=N))\n",
    "gewichten = pd.Series(np.absolute(np.random.randn(N)))\n",
    "vitC = {\"apple\":4.6,'lemon':\"53\",'banana':8.7,'kiwi':92.7, 'strawberry':58.8,\"pineapple\":47.8}# mg vit C per 100 g"
   ]
  },
  {
   "cell_type": "code",
   "execution_count": 15,
   "metadata": {},
   "outputs": [
    {
     "name": "stdout",
     "output_type": "stream",
     "text": [
      "0        banana\n",
      "1          kiwi\n",
      "2    strawberry\n",
      "3        banana\n",
      "4     pineapple\n",
      "Name: fruit, dtype: object\n",
      "fruit          banana\n",
      "gewichten    0.303338\n",
      "Name: 0, dtype: object\n",
      "0         banana\n",
      "1           kiwi\n",
      "2     strawberry\n",
      "3         banana\n",
      "4      pineapple\n",
      "5      pineapple\n",
      "6          apple\n",
      "7          lemon\n",
      "8           kiwi\n",
      "9          apple\n",
      "10         lemon\n",
      "11        banana\n",
      "12        banana\n",
      "13     pineapple\n",
      "14         lemon\n",
      "15         apple\n",
      "16          kiwi\n",
      "17          kiwi\n",
      "18    strawberry\n",
      "19     pineapple\n",
      "Name: fruit, dtype: object\n"
     ]
    }
   ],
   "source": [
    "df = pd.DataFrame({'fruit':fruit, 'gewichten':gewichten})\n",
    "print(df['fruit'].head()) # df['gewichten']\n",
    "print(df.iloc[0])\n",
    "print(df.loc[:,'fruit'])"
   ]
  },
  {
   "cell_type": "code",
   "execution_count": 16,
   "metadata": {},
   "outputs": [
    {
     "data": {
      "text/html": [
       "<div>\n",
       "<style scoped>\n",
       "    .dataframe tbody tr th:only-of-type {\n",
       "        vertical-align: middle;\n",
       "    }\n",
       "\n",
       "    .dataframe tbody tr th {\n",
       "        vertical-align: top;\n",
       "    }\n",
       "\n",
       "    .dataframe thead th {\n",
       "        text-align: right;\n",
       "    }\n",
       "</style>\n",
       "<table border=\"1\" class=\"dataframe\">\n",
       "  <thead>\n",
       "    <tr style=\"text-align: right;\">\n",
       "      <th></th>\n",
       "      <th>fruit</th>\n",
       "      <th>gewichten</th>\n",
       "    </tr>\n",
       "  </thead>\n",
       "  <tbody>\n",
       "    <tr>\n",
       "      <th>5</th>\n",
       "      <td>pineapple</td>\n",
       "      <td>0.433189</td>\n",
       "    </tr>\n",
       "    <tr>\n",
       "      <th>6</th>\n",
       "      <td>apple</td>\n",
       "      <td>1.078361</td>\n",
       "    </tr>\n",
       "    <tr>\n",
       "      <th>7</th>\n",
       "      <td>lemon</td>\n",
       "      <td>0.509410</td>\n",
       "    </tr>\n",
       "    <tr>\n",
       "      <th>8</th>\n",
       "      <td>kiwi</td>\n",
       "      <td>1.939891</td>\n",
       "    </tr>\n",
       "  </tbody>\n",
       "</table>\n",
       "</div>"
      ],
      "text/plain": [
       "       fruit  gewichten\n",
       "5  pineapple   0.433189\n",
       "6      apple   1.078361\n",
       "7      lemon   0.509410\n",
       "8       kiwi   1.939891"
      ]
     },
     "execution_count": 16,
     "metadata": {},
     "output_type": "execute_result"
    }
   ],
   "source": [
    "df[5:9]#indexen 5-8\n",
    "df.loc[5:9] # by label\n",
    "df.iloc[5:9]#by index"
   ]
  },
  {
   "cell_type": "code",
   "execution_count": 17,
   "metadata": {},
   "outputs": [
    {
     "data": {
      "text/html": [
       "<div>\n",
       "<style scoped>\n",
       "    .dataframe tbody tr th:only-of-type {\n",
       "        vertical-align: middle;\n",
       "    }\n",
       "\n",
       "    .dataframe tbody tr th {\n",
       "        vertical-align: top;\n",
       "    }\n",
       "\n",
       "    .dataframe thead th {\n",
       "        text-align: right;\n",
       "    }\n",
       "</style>\n",
       "<table border=\"1\" class=\"dataframe\">\n",
       "  <thead>\n",
       "    <tr style=\"text-align: right;\">\n",
       "      <th></th>\n",
       "      <th>fruit</th>\n",
       "      <th>gewichten</th>\n",
       "    </tr>\n",
       "  </thead>\n",
       "  <tbody>\n",
       "    <tr>\n",
       "      <th>0</th>\n",
       "      <td>banana</td>\n",
       "      <td>0.303338</td>\n",
       "    </tr>\n",
       "    <tr>\n",
       "      <th>2</th>\n",
       "      <td>strawberry</td>\n",
       "      <td>0.765805</td>\n",
       "    </tr>\n",
       "    <tr>\n",
       "      <th>4</th>\n",
       "      <td>pineapple</td>\n",
       "      <td>0.331047</td>\n",
       "    </tr>\n",
       "    <tr>\n",
       "      <th>6</th>\n",
       "      <td>apple</td>\n",
       "      <td>1.078361</td>\n",
       "    </tr>\n",
       "    <tr>\n",
       "      <th>8</th>\n",
       "      <td>kiwi</td>\n",
       "      <td>1.939891</td>\n",
       "    </tr>\n",
       "    <tr>\n",
       "      <th>10</th>\n",
       "      <td>lemon</td>\n",
       "      <td>0.353809</td>\n",
       "    </tr>\n",
       "    <tr>\n",
       "      <th>12</th>\n",
       "      <td>banana</td>\n",
       "      <td>1.430409</td>\n",
       "    </tr>\n",
       "    <tr>\n",
       "      <th>14</th>\n",
       "      <td>lemon</td>\n",
       "      <td>0.561001</td>\n",
       "    </tr>\n",
       "    <tr>\n",
       "      <th>16</th>\n",
       "      <td>kiwi</td>\n",
       "      <td>0.589032</td>\n",
       "    </tr>\n",
       "    <tr>\n",
       "      <th>18</th>\n",
       "      <td>strawberry</td>\n",
       "      <td>0.097230</td>\n",
       "    </tr>\n",
       "  </tbody>\n",
       "</table>\n",
       "</div>"
      ],
      "text/plain": [
       "         fruit  gewichten\n",
       "0       banana   0.303338\n",
       "2   strawberry   0.765805\n",
       "4    pineapple   0.331047\n",
       "6        apple   1.078361\n",
       "8         kiwi   1.939891\n",
       "10       lemon   0.353809\n",
       "12      banana   1.430409\n",
       "14       lemon   0.561001\n",
       "16        kiwi   0.589032\n",
       "18  strawberry   0.097230"
      ]
     },
     "execution_count": 17,
     "metadata": {},
     "output_type": "execute_result"
    }
   ],
   "source": [
    "df[::2]# even indexen\n",
    "#idem .loc, .iloc"
   ]
  },
  {
   "cell_type": "code",
   "execution_count": 18,
   "metadata": {},
   "outputs": [
    {
     "data": {
      "text/plain": [
       "16    0.589032\n",
       "17    1.229063\n",
       "18    0.097230\n",
       "19    1.945635\n",
       "Name: gewichten, dtype: float64"
      ]
     },
     "execution_count": 18,
     "metadata": {},
     "output_type": "execute_result"
    }
   ],
   "source": [
    "# Selecteer allen de data uit de 'weights' kolom en dit voor de laatste 4 rijen.\n",
    "df['gewichten'][-4:]"
   ]
  },
  {
   "cell_type": "code",
   "execution_count": 19,
   "metadata": {},
   "outputs": [],
   "source": [
    "# Voeg een extra kolom 'total_vitamines' toe aan je dataframe met het juiste vitamine C gehalte voor de gegeven hoeveelheid van een bepaalde fruitsoort.\n",
    "# df['total_vitamines']\n",
    "df['total_vitamines']=df.fruit.map(vitC).astype('float64')*df.gewichten"
   ]
  },
  {
   "cell_type": "code",
   "execution_count": 20,
   "metadata": {},
   "outputs": [
    {
     "data": {
      "text/html": [
       "<div>\n",
       "<style scoped>\n",
       "    .dataframe tbody tr th:only-of-type {\n",
       "        vertical-align: middle;\n",
       "    }\n",
       "\n",
       "    .dataframe tbody tr th {\n",
       "        vertical-align: top;\n",
       "    }\n",
       "\n",
       "    .dataframe thead th {\n",
       "        text-align: right;\n",
       "    }\n",
       "</style>\n",
       "<table border=\"1\" class=\"dataframe\">\n",
       "  <thead>\n",
       "    <tr style=\"text-align: right;\">\n",
       "      <th></th>\n",
       "      <th>gewichten</th>\n",
       "      <th>total_vitamines</th>\n",
       "    </tr>\n",
       "    <tr>\n",
       "      <th>fruit</th>\n",
       "      <th></th>\n",
       "      <th></th>\n",
       "    </tr>\n",
       "  </thead>\n",
       "  <tbody>\n",
       "    <tr>\n",
       "      <th>apple</th>\n",
       "      <td>1.024588</td>\n",
       "      <td>4.713103</td>\n",
       "    </tr>\n",
       "    <tr>\n",
       "      <th>banana</th>\n",
       "      <td>0.808775</td>\n",
       "      <td>7.036344</td>\n",
       "    </tr>\n",
       "    <tr>\n",
       "      <th>kiwi</th>\n",
       "      <td>1.300892</td>\n",
       "      <td>120.592705</td>\n",
       "    </tr>\n",
       "    <tr>\n",
       "      <th>lemon</th>\n",
       "      <td>0.474740</td>\n",
       "      <td>25.161229</td>\n",
       "    </tr>\n",
       "    <tr>\n",
       "      <th>pineapple</th>\n",
       "      <td>0.943878</td>\n",
       "      <td>45.117363</td>\n",
       "    </tr>\n",
       "    <tr>\n",
       "      <th>strawberry</th>\n",
       "      <td>0.431517</td>\n",
       "      <td>25.373216</td>\n",
       "    </tr>\n",
       "  </tbody>\n",
       "</table>\n",
       "</div>"
      ],
      "text/plain": [
       "            gewichten  total_vitamines\n",
       "fruit                                 \n",
       "apple        1.024588         4.713103\n",
       "banana       0.808775         7.036344\n",
       "kiwi         1.300892       120.592705\n",
       "lemon        0.474740        25.161229\n",
       "pineapple    0.943878        45.117363\n",
       "strawberry   0.431517        25.373216"
      ]
     },
     "execution_count": 20,
     "metadata": {},
     "output_type": "execute_result"
    }
   ],
   "source": [
    "#Geef per soort fruit het gemiddeld gewicht en het gemiddeld aantal vitamines aanwezig in de dataset.\n",
    "set(df['fruit'])\n",
    "#averages = [df[df['fruit']==key]['total_vitamines'].mean(axis=0) for key in set(df['fruit'])]\n",
    "#averages = {key:value for (key,value) in zip(set(df['fruit']),averages)}\n",
    "#averages\n",
    "df.groupby(\"fruit\").mean()"
   ]
  },
  {
   "cell_type": "code",
   "execution_count": 21,
   "metadata": {},
   "outputs": [
    {
     "data": {
      "text/html": [
       "<div>\n",
       "<style scoped>\n",
       "    .dataframe tbody tr th:only-of-type {\n",
       "        vertical-align: middle;\n",
       "    }\n",
       "\n",
       "    .dataframe tbody tr th {\n",
       "        vertical-align: top;\n",
       "    }\n",
       "\n",
       "    .dataframe thead th {\n",
       "        text-align: right;\n",
       "    }\n",
       "</style>\n",
       "<table border=\"1\" class=\"dataframe\">\n",
       "  <thead>\n",
       "    <tr style=\"text-align: right;\">\n",
       "      <th></th>\n",
       "      <th>fruit</th>\n",
       "      <th>total_vitamines</th>\n",
       "    </tr>\n",
       "  </thead>\n",
       "  <tbody>\n",
       "    <tr>\n",
       "      <th>0</th>\n",
       "      <td>kiwi</td>\n",
       "      <td>134.005521</td>\n",
       "    </tr>\n",
       "    <tr>\n",
       "      <th>1</th>\n",
       "      <td>strawberry</td>\n",
       "      <td>45.029318</td>\n",
       "    </tr>\n",
       "    <tr>\n",
       "      <th>2</th>\n",
       "      <td>pineapple</td>\n",
       "      <td>15.824035</td>\n",
       "    </tr>\n",
       "    <tr>\n",
       "      <th>3</th>\n",
       "      <td>pineapple</td>\n",
       "      <td>20.706456</td>\n",
       "    </tr>\n",
       "    <tr>\n",
       "      <th>4</th>\n",
       "      <td>apple</td>\n",
       "      <td>4.960460</td>\n",
       "    </tr>\n",
       "    <tr>\n",
       "      <th>5</th>\n",
       "      <td>lemon</td>\n",
       "      <td>26.998753</td>\n",
       "    </tr>\n",
       "    <tr>\n",
       "      <th>6</th>\n",
       "      <td>kiwi</td>\n",
       "      <td>179.827908</td>\n",
       "    </tr>\n",
       "    <tr>\n",
       "      <th>7</th>\n",
       "      <td>apple</td>\n",
       "      <td>3.775567</td>\n",
       "    </tr>\n",
       "    <tr>\n",
       "      <th>8</th>\n",
       "      <td>lemon</td>\n",
       "      <td>18.751889</td>\n",
       "    </tr>\n",
       "    <tr>\n",
       "      <th>9</th>\n",
       "      <td>pineapple</td>\n",
       "      <td>50.937606</td>\n",
       "    </tr>\n",
       "    <tr>\n",
       "      <th>10</th>\n",
       "      <td>lemon</td>\n",
       "      <td>29.733046</td>\n",
       "    </tr>\n",
       "    <tr>\n",
       "      <th>11</th>\n",
       "      <td>apple</td>\n",
       "      <td>5.403280</td>\n",
       "    </tr>\n",
       "    <tr>\n",
       "      <th>12</th>\n",
       "      <td>kiwi</td>\n",
       "      <td>54.603226</td>\n",
       "    </tr>\n",
       "    <tr>\n",
       "      <th>13</th>\n",
       "      <td>kiwi</td>\n",
       "      <td>113.934168</td>\n",
       "    </tr>\n",
       "    <tr>\n",
       "      <th>14</th>\n",
       "      <td>strawberry</td>\n",
       "      <td>5.717114</td>\n",
       "    </tr>\n",
       "    <tr>\n",
       "      <th>15</th>\n",
       "      <td>pineapple</td>\n",
       "      <td>93.001357</td>\n",
       "    </tr>\n",
       "  </tbody>\n",
       "</table>\n",
       "</div>"
      ],
      "text/plain": [
       "         fruit  total_vitamines\n",
       "0         kiwi       134.005521\n",
       "1   strawberry        45.029318\n",
       "2    pineapple        15.824035\n",
       "3    pineapple        20.706456\n",
       "4        apple         4.960460\n",
       "5        lemon        26.998753\n",
       "6         kiwi       179.827908\n",
       "7        apple         3.775567\n",
       "8        lemon        18.751889\n",
       "9    pineapple        50.937606\n",
       "10       lemon        29.733046\n",
       "11       apple         5.403280\n",
       "12        kiwi        54.603226\n",
       "13        kiwi       113.934168\n",
       "14  strawberry         5.717114\n",
       "15   pineapple        93.001357"
      ]
     },
     "execution_count": 21,
     "metadata": {},
     "output_type": "execute_result"
    }
   ],
   "source": [
    "if('gewichten' in df.columns):\n",
    "    df.pop('gewichten')\n",
    "df.drop(df[(df['fruit'] == 'banana')].index).reset_index(drop=True)\n",
    "# alt df.drop('column name',axis='columns')"
   ]
  },
  {
   "cell_type": "markdown",
   "metadata": {},
   "source": [
    "#### Deel 2 : Mergen, selecteren en groeperen van data"
   ]
  },
  {
   "cell_type": "markdown",
   "metadata": {},
   "source": [
    "__Oefening 3__ Mergen en selecteren van data\n",
    "\n",
    "Gegeven 3 csv files met hierin data over restaurantbezoeken : _ratings.csv_ , _payments_csv_ en _genres.csv_.\n",
    "\n",
    "**3.1** Load deze files in als 3 aparte data frames en bekijk de gegevens in deze frames oa. via $head()$, $tail()$, $describe()$ en $info()$.\n",
    "\n",
    "**3.2** Merge de 3 bovenstaande dataframes tot 1 grote dataframe.\n",
    "Merk op een merge operatie op tabellen is net zoals een join in mysql, via het attribuut $how$ geef je aan of het over een $left$, $right$, $inner$ of $outer$ join gaat.\n",
    "_Tip:_ zie ook :\n",
    "https://pandas.pydata.org/pandas-docs/stable/getting_started/comparison/comparison_with_sql.html#compare-with-sql-join\n",
    "\n",
    "**3.3** In de nieuwe samengevoegde dataframe mag je de rating kolom verwijderen. Deze kolom zullen we opnieuw berekenen aan de hand van een gewogen gemiddelde van de user zijn food_rating en de service_rating. Neem deze als volgt : $new\\_rating = food\\_rating * 0.7 + service\\_rating * 0.3$ Maak gebruik van numpy.\n",
    "\n",
    "**3.4** Geef de dataframe nu gesorteerd weer. Sorteer op de nieuwe berekende rating $new\\_rating$. Wanneer ratings gelijk zijn, sorteer je op de $food\\_rating$ kolom, wanneer ook deze gelijk zijn sorteer je op de $service\\_rating$ kolom.\n",
    "\n",
    "**3.5** Selecteer alle restaurants die een $new\\_rating$ score gelijk aan 0 hebben. Tel voor elk van deze restaurants hoe vaak ze een score van 0 behaalde.\n"
   ]
  },
  {
   "cell_type": "code",
   "execution_count": 22,
   "metadata": {},
   "outputs": [],
   "source": [
    "ratings = pd.read_csv('./ratings.csv')\n",
    "genres = pd.read_csv('./genres.csv')\n",
    "payments = pd.read_csv('./payments.csv')\n",
    "'''\n",
    "print(ratings.head(),end=\"\\n\\n\")\n",
    "print(genres.tail(),end=\"\\n\\n\")\n",
    "print(payments.describe(),end=\"\\n\\n\")\n",
    "ratings.info()\n",
    "'''\n",
    "pass"
   ]
  },
  {
   "cell_type": "code",
   "execution_count": 23,
   "metadata": {},
   "outputs": [],
   "source": [
    "'''\n",
    " Merge de 3 bovenstaande dataframes tot 1 grote dataframe. Merk op een merge operatie op tabellen is net zoals een join in mysql, via het attribuut  ℎ𝑜𝑤\n",
    "  geef je aan of het over een  𝑙𝑒𝑓𝑡, 𝑟𝑖𝑔ℎ𝑡, 𝑖𝑛𝑛𝑒𝑟 of  𝑜𝑢𝑡𝑒𝑟 join gaat.\n",
    "  Tip: zie ook : https://pandas.pydata.org/pandas-docs/stable/getting_started/comparison/comparison_with_sql.html#compare-with-sql-join\n",
    "'''\n",
    "inner = pd.merge(pd.merge(ratings,genres,how='inner'),payments,how='inner')\n",
    "outer = pd.merge(pd.merge(ratings,genres,how='outer'),payments,how='outer')\n",
    "left = pd.merge(pd.merge(ratings,genres,how='left'),payments,how='left')\n",
    "right = pd.merge(pd.merge(ratings,genres,how='right'),payments,how='right')"
   ]
  },
  {
   "cell_type": "code",
   "execution_count": 24,
   "metadata": {},
   "outputs": [],
   "source": [
    "'''\n",
    " In de nieuwe samengevoegde dataframe mag je de rating kolom verwijderen. Deze kolom zullen we opnieuw berekenen aan de hand van een gewogen gemiddelde\n",
    " van de user zijn food_rating en de service_rating. Neem deze als volgt :  𝑛𝑒𝑤_𝑟𝑎𝑡𝑖𝑛𝑔=𝑓𝑜𝑜𝑑_𝑟𝑎𝑡𝑖𝑛𝑔∗0.7+𝑠𝑒𝑟𝑣𝑖𝑐𝑒_𝑟𝑎𝑡𝑖𝑛𝑔∗0.3 Maak gebruik van numpy.\n",
    "'''\n",
    "#gebruik inner\n",
    "df = inner\n",
    "df_noSR = df.drop('rating',axis=\"columns\")\n",
    "new_rating = df_noSR.food_rating*0.7+df.service_rating*0.3\n",
    "new_rating = df_noSR.food_rating.to_numpy()*0.7 + df_noSR.service_rating.to_numpy()*0.3\n",
    "df_noSR['new_rating'] = new_rating\n",
    "df = df_noSR\n",
    "#df = df_noSR.sort_values([\"new_rating\",'food_rating','service_rating'],ascending=[True,True,True])"
   ]
  },
  {
   "cell_type": "code",
   "execution_count": 25,
   "metadata": {},
   "outputs": [
    {
     "data": {
      "text/plain": [
       "placeID\n",
       "132560    2\n",
       "132572    4\n",
       "132583    1\n",
       "132584    1\n",
       "132594    1\n",
       "         ..\n",
       "135085    6\n",
       "135086    6\n",
       "135104    1\n",
       "135106    4\n",
       "135109    1\n",
       "Name: new_rating, Length: 68, dtype: int64"
      ]
     },
     "execution_count": 25,
     "metadata": {},
     "output_type": "execute_result"
    }
   ],
   "source": [
    "df[df['new_rating']==0].groupby('placeID').count()['new_rating']"
   ]
  },
  {
   "cell_type": "markdown",
   "metadata": {},
   "source": [
    "__Oefening 4__ Grouperen van data\n",
    "\n",
    "Werk opnieuw met de laatste versie van de dataframe uit oefening 3.\n",
    "\n",
    "\n",
    "**4.1** Bereken voor elk restaurant zijn gemiddelde new_rating, min waarde van zijn new_rating en max-waarde van de new_rating. In je resultaat dataframe, hoe ziet de index er nu uit? Sorteer dit resultaat volgens het beste gemiddelde. \n",
    "Geef nu het best scorende restaurant samen met zijn genre weer.\n",
    "\n",
    "**4.2** Ga na of er gebruikers zijn die hetzelfde restaurant meerdere malen beoordeeld hebben. Welke gebruiker heeft welk restaurant het vaakst beoordeeld?\n"
   ]
  },
  {
   "cell_type": "code",
   "execution_count": 26,
   "metadata": {},
   "outputs": [],
   "source": [
    "intermediary = df.groupby('placeID')['new_rating']\n",
    "i = pd.merge(df,intermediary.mean().to_frame(),suffixes=('',\"_mean\"),on=\"placeID\")\n",
    "i = pd.merge(i,intermediary.min().to_frame(),suffixes=('',\"_min\"),on=\"placeID\")\n",
    "i = pd.merge(i, intermediary.max().to_frame(),suffixes=('',\"_max\"),on=\"placeID\")\n",
    "df = i"
   ]
  },
  {
   "cell_type": "markdown",
   "metadata": {},
   "source": [
    "#### Deel 3 : Data plotting met Pandas\n",
    "\n",
    "Via een dataframe kan je ook heel eenvoudig plots maken. De plot functies `df.plot()`,  `df.plot.line()`, `df.plot.bar()`, `df.hist()`, `df.plot.scatter()`, `df.plot.pie()`, ... zijn standaard voorzien. Under the hood maken deze uiteraard gebruik van de Matplotlib en geven beide hetzelfde resultaat, de code is echter iets minder omslachtig om deze functies aan te spreken via pandas."
   ]
  },
  {
   "cell_type": "markdown",
   "metadata": {},
   "source": [
    "__Oefening 5__ Bar plots via Pandas\n",
    "\n",
    "**5.1** Plot de populaire genre restaurants uit t.o.v. hoe vaak ze vertegenwoordigd zijn in deze data. Toon alleen deze genres die minstens 5x voorkomen in de data. Voor zie op de x-as de verschillende genres en op de y-as de aantallen. Voorzien je plot van een titel, geef een label aan de assen en werk met kleuren.\n",
    "\n",
    "**5.2** Maak een multibarplot: voor elk restauranttype geef je de 3 verschillende gemiddelde ratings weer. Welk restauranttype scoort gemiddeld best op new_rating? Welk type scoort gemiddeld best voor food_rating? Welk restauranttype scoort gemiddeld best voor service?"
   ]
  },
  {
   "cell_type": "code",
   "execution_count": 27,
   "metadata": {},
   "outputs": [
    {
     "data": {
      "image/png": "[encoded data removed]",
      "text/plain": [
       "<Figure size 640x480 with 1 Axes>"
      ]
     },
     "metadata": {},
     "output_type": "display_data"
    }
   ],
   "source": [
    "df.value_counts(\"Rtype\")[df.value_counts(\"Rtype\")>=5].plot.bar()#rtype=genre\n",
    "plt.show()\n"
   ]
  },
  {
   "cell_type": "code",
   "execution_count": 28,
   "metadata": {},
   "outputs": [
    {
     "data": {
      "image/png": "[encoded data removed]",
      "text/plain": [
       "<Figure size 640x480 with 1 Axes>"
      ]
     },
     "metadata": {},
     "output_type": "display_data"
    }
   ],
   "source": [
    "mean = df.groupby('Rtype')[['new_rating_mean']].mean()\n",
    "min = df.groupby('Rtype')[['new_rating_min']].min()\n",
    "max = df.groupby('Rtype')[['new_rating_max']].max()\n",
    "min.join(max).join(mean).plot(kind='bar')\n",
    "plt.show()"
   ]
  },
  {
   "cell_type": "markdown",
   "metadata": {},
   "source": [
    "__Oefening 6__ Scatter plots en histograms\n",
    "\n",
    "In een scatter plot toon je de xy-coördinaten van je data zonder dat deze verbonden zijn.\n",
    "\n",
    "**6.1** Genereer volgende data : genereer een numpy array van 100 getallen die de lengte van een persoon voorstelt. Genereer deze volgens een random verdeling waarbij je als gemiddelde lengte 180 cm instelt met een standaardafwijking van 10. Genereer nu ook een gewicht voor elk van deze personen. Ga hierbij uit dat het gewicht = de lengte - 100  + error. De error heeft een gemiddelde correctie van 5 kilo meer of minder. Stop beide parameters in een dataframe.\n",
    "\n",
    "**6.2** Plot de hoogte uit tov de lengte via een scatter plot. Ga na of er een relatie zit tussen lengte en gewicht door een rechte te plotten die de minste fouten maakt op deze data. Gebruik hiervoor de functie `np.polyfit` en `np.poly1d`, zie ook : <https://towardsdatascience.com/regression-plots-with-pandas-and-numpy-faf2edbfad4f>\n",
    "\n",
    "**6.3** Herhaal 6.1 maar nu stel je de gemiddelde kleiner is zodat je eerste dataset de lengtes en gewichten voor mannen voorstelt, deze nieuwe dataset genereer je voor vrouwen, hierin stel je de gemiddelde lengte in op 165 cm, opnieuw met een standaard afwijking van 10. Het gewicht bereken je op dezelfde manier, alleen de error kan groter worden namelijk een gemiddelde afwijking van 8 kilo's . Breid je dataframe uit, met telkens een kolom hoogte en gewicht voor mannen en een kolom voor hoogte en gewicht voor vrouwen. Plot voor de vrouwen nu ook een scatter plot. Zie je hier een relatie ? Gebruik opnieuw de functie `np.polyfit` en `np.poly1d` om een lineair verband te visualiseren.\n",
    "\n",
    "**6.3** Om de distributie van zowel de lengtes als het gewicht van zowel mannen als vrouwen te visualiseren, plot je van beide een histogram. Plot deze samen op 1 grafiek zodat je de vergelijking goed kan maken. Speel met de transparency parameter $alpha$ zodat ook de overlap duidelijk gezien kan worden.\n"
   ]
  },
  {
   "cell_type": "code",
   "execution_count": 29,
   "metadata": {},
   "outputs": [
    {
     "name": "stderr",
     "output_type": "stream",
     "text": [
      "C:\\Users\\User\\AppData\\Local\\Temp\\ipykernel_1700\\295463334.py:7: UserWarning: color is redundantly defined by the 'color' keyword argument and the fmt string \"b\" (-> color=(0.0, 0.0, 1.0, 1)). The keyword argument will take precedence.\n",
      "  plt.plot(heights, abline_values, 'b',color='red')\n"
     ]
    },
    {
     "data": {
      "image/png": "[encoded data removed]",
      "text/plain": [
       "<Figure size 640x480 with 1 Axes>"
      ]
     },
     "metadata": {},
     "output_type": "display_data"
    }
   ],
   "source": [
    "heights = np.random.normal(180,10,100)\n",
    "gewichten = heights -100 + np.random.uniform(low=-5, high=5, size=(100,))\n",
    "df = pd.DataFrame({'heights':heights,\"weights\":gewichten})\n",
    "df.plot.scatter(x='heights',y=\"weights\")\n",
    "a,b = np.polyfit(heights, gewichten,1)\n",
    "abline_values = [a * i + b for i in heights]\n",
    "plt.plot(heights, abline_values, 'b',color='red')\n",
    "plt.show()"
   ]
  },
  {
   "cell_type": "markdown",
   "metadata": {},
   "source": [
    "#### Deel 4 : Data cleaning met Pandas\n",
    "\n",
    "80\\% van zijn tijd spendeert een data scientist aan het opkuisen van de data. Pandas is een ideale tool om data op te kuisen. In dit deel overlopen we verschillende handige data cleaning acties."
   ]
  },
  {
   "cell_type": "markdown",
   "metadata": {},
   "source": [
    "__Oefening 7__ \n",
    "\n",
    "**7.1** Lees de olympicsdata file in als een pandas dataframe. Hierbij mag je de eerste lijn overslaan omdata deze geen zinnige data bevat. Bekijk de info van deze file via de gekende functies : $head$, $info$, $describe$, ... Deze data is gebaseerd op de _unranked medal table_ uit <https://en.wikipedia.org/wiki/All-time_Olympic_Games_medal_table>\n",
    "\n",
    "**7.2** Merk op dat de kolomnamen niet eenduidig zijn. Wijzig deze zodat je logische kolomnamen bekomt.\n",
    "\n",
    "**7.3** De eerste kolom bevat tekstdata met oa. de naam van een land / olympische deelname, alsook de code. Zorg ervoor dat de 3 letter code die tussen ronde haken staat de nieuwe index van de dataframe wordt. Verder kuis je de tekst in kolom1 op zodat alleen de naam van het land / deelname overblijft (het stuk tekst voor de ronde haak). Maak hier gebruik van de  `apply` functie.\n",
    "\n",
    "**7.4** Ga na hoeveel data ontbreekt in je dataframe.  Maak hiertoe een nieuwe dataframe aan. De eerste kolom is het aantal ontbrekende waarden voor \n",
    "elke kolom. De tweede kolom is het percentage van ontbrekende waarden.\n",
    "\n",
    "_Tip :_ gebruik de `isnull` methode.\n",
    "\n",
    "**7.5**  Het percentage ontbrekende waarden is eigenlijk verwaarloosbaar. Daarom mag je elke ontbrekende waarde wijzigen naar 0. Test zelf of je operatie gelukt is door opnieuw het totaal aantal ontbrekende waarden in je Dataframe te tellen.\n",
    "\n",
    "_Tip :_ gebruik de `fill_na` methode.\n",
    "\n",
    "**7.6** Via `info` of `dtypes` kan je nagaan of de types van de data in de verschillende kolommen wel logisch is. Ga dit na en pas deze aan naar het meest logische type. Behalve de kolom die de landnaam voorstelt zijn alle andere data gewoon gehele getallen, int64 is dus prima!"
   ]
  },
  {
   "cell_type": "code",
   "execution_count": 49,
   "metadata": {
    "tags": []
   },
   "outputs": [],
   "source": [
    "colnames = ['Land', \"#Summer Games\", \"Summer_1\", \"Summer_2\",\"Summer_3\", \"Summer_Total\",\n",
    "                    \"#Winter Games\", \"Winter_1\", \"Winter_2\",\"Winter_3\", \"Winter_Total\",\n",
    "                    \"#Combined Games\", \"Combined_1\", \"Combined_2\",\"Combined_3\", \"Combined_Total\"]\n",
    "olympics = pd.read_csv(\"./olympicsdata2(1).csv\",delimiter=\";\",skiprows=2, names=colnames)"
   ]
  },
  {
   "cell_type": "code",
   "execution_count": 54,
   "metadata": {
    "tags": []
   },
   "outputs": [],
   "source": [
    "def LandFormat(x):\n",
    "        land, junk = x.split('(')\n",
    "        code = junk.split(')')[0]\n",
    "        return (land, code)"
   ]
  },
  {
   "cell_type": "code",
   "execution_count": 60,
   "metadata": {
    "tags": []
   },
   "outputs": [
    {
     "data": {
      "text/html": [
       "<div>\n",
       "<style scoped>\n",
       "    .dataframe tbody tr th:only-of-type {\n",
       "        vertical-align: middle;\n",
       "    }\n",
       "\n",
       "    .dataframe tbody tr th {\n",
       "        vertical-align: top;\n",
       "    }\n",
       "\n",
       "    .dataframe thead th {\n",
       "        text-align: right;\n",
       "    }\n",
       "</style>\n",
       "<table border=\"1\" class=\"dataframe\">\n",
       "  <thead>\n",
       "    <tr style=\"text-align: right;\">\n",
       "      <th></th>\n",
       "      <th>Land</th>\n",
       "      <th>#Summer Games</th>\n",
       "      <th>Summer_1</th>\n",
       "      <th>Summer_2</th>\n",
       "      <th>Summer_3</th>\n",
       "      <th>Summer_Total</th>\n",
       "      <th>#Winter Games</th>\n",
       "      <th>Winter_1</th>\n",
       "      <th>Winter_2</th>\n",
       "      <th>Winter_3</th>\n",
       "      <th>Winter_Total</th>\n",
       "      <th>#Combined Games</th>\n",
       "      <th>Combined_1</th>\n",
       "      <th>Combined_2</th>\n",
       "      <th>Combined_3</th>\n",
       "      <th>Combined_Total</th>\n",
       "      <th>Code</th>\n",
       "    </tr>\n",
       "  </thead>\n",
       "  <tbody>\n",
       "    <tr>\n",
       "      <th>0</th>\n",
       "      <td>Afghanistan</td>\n",
       "      <td>14</td>\n",
       "      <td>0.0</td>\n",
       "      <td>0</td>\n",
       "      <td>2</td>\n",
       "      <td>2</td>\n",
       "      <td>NaN</td>\n",
       "      <td>0.0</td>\n",
       "      <td>0.0</td>\n",
       "      <td>0.0</td>\n",
       "      <td>0.0</td>\n",
       "      <td>14</td>\n",
       "      <td>0.0</td>\n",
       "      <td>0.0</td>\n",
       "      <td>2.0</td>\n",
       "      <td>2</td>\n",
       "      <td>AFG</td>\n",
       "    </tr>\n",
       "    <tr>\n",
       "      <th>1</th>\n",
       "      <td>Algeria</td>\n",
       "      <td>13</td>\n",
       "      <td>5.0</td>\n",
       "      <td>4</td>\n",
       "      <td>8</td>\n",
       "      <td>17</td>\n",
       "      <td>3.0</td>\n",
       "      <td>0.0</td>\n",
       "      <td>0.0</td>\n",
       "      <td>0.0</td>\n",
       "      <td>0.0</td>\n",
       "      <td>16</td>\n",
       "      <td>5.0</td>\n",
       "      <td>4.0</td>\n",
       "      <td>8.0</td>\n",
       "      <td>17</td>\n",
       "      <td>ALG</td>\n",
       "    </tr>\n",
       "    <tr>\n",
       "      <th>2</th>\n",
       "      <td>Argentina</td>\n",
       "      <td>24</td>\n",
       "      <td>21.0</td>\n",
       "      <td>25</td>\n",
       "      <td>28</td>\n",
       "      <td>74</td>\n",
       "      <td>19.0</td>\n",
       "      <td>0.0</td>\n",
       "      <td>0.0</td>\n",
       "      <td>0.0</td>\n",
       "      <td>0.0</td>\n",
       "      <td>43</td>\n",
       "      <td>21.0</td>\n",
       "      <td>25.0</td>\n",
       "      <td>28.0</td>\n",
       "      <td>74</td>\n",
       "      <td>ARG</td>\n",
       "    </tr>\n",
       "    <tr>\n",
       "      <th>3</th>\n",
       "      <td>Armenia</td>\n",
       "      <td>6</td>\n",
       "      <td>2.0</td>\n",
       "      <td>6</td>\n",
       "      <td>6</td>\n",
       "      <td>14</td>\n",
       "      <td>7.0</td>\n",
       "      <td>0.0</td>\n",
       "      <td>0.0</td>\n",
       "      <td>0.0</td>\n",
       "      <td>0.0</td>\n",
       "      <td>13</td>\n",
       "      <td>2.0</td>\n",
       "      <td>6.0</td>\n",
       "      <td>6.0</td>\n",
       "      <td>14</td>\n",
       "      <td>ARM</td>\n",
       "    </tr>\n",
       "    <tr>\n",
       "      <th>4</th>\n",
       "      <td>Australasia</td>\n",
       "      <td>2</td>\n",
       "      <td>3.0</td>\n",
       "      <td>4</td>\n",
       "      <td>5</td>\n",
       "      <td>12</td>\n",
       "      <td>0.0</td>\n",
       "      <td>0.0</td>\n",
       "      <td>0.0</td>\n",
       "      <td>0.0</td>\n",
       "      <td>0.0</td>\n",
       "      <td>2</td>\n",
       "      <td>3.0</td>\n",
       "      <td>4.0</td>\n",
       "      <td>5.0</td>\n",
       "      <td>12</td>\n",
       "      <td>ANZ</td>\n",
       "    </tr>\n",
       "    <tr>\n",
       "      <th>...</th>\n",
       "      <td>...</td>\n",
       "      <td>...</td>\n",
       "      <td>...</td>\n",
       "      <td>...</td>\n",
       "      <td>...</td>\n",
       "      <td>...</td>\n",
       "      <td>...</td>\n",
       "      <td>...</td>\n",
       "      <td>...</td>\n",
       "      <td>...</td>\n",
       "      <td>...</td>\n",
       "      <td>...</td>\n",
       "      <td>...</td>\n",
       "      <td>...</td>\n",
       "      <td>...</td>\n",
       "      <td>...</td>\n",
       "      <td>...</td>\n",
       "    </tr>\n",
       "    <tr>\n",
       "      <th>147</th>\n",
       "      <td>Zambia</td>\n",
       "      <td>13</td>\n",
       "      <td>0.0</td>\n",
       "      <td>1</td>\n",
       "      <td>1</td>\n",
       "      <td>2</td>\n",
       "      <td>0.0</td>\n",
       "      <td>0.0</td>\n",
       "      <td>0.0</td>\n",
       "      <td>0.0</td>\n",
       "      <td>0.0</td>\n",
       "      <td>13</td>\n",
       "      <td>0.0</td>\n",
       "      <td>1.0</td>\n",
       "      <td>1.0</td>\n",
       "      <td>2</td>\n",
       "      <td>ZAM</td>\n",
       "    </tr>\n",
       "    <tr>\n",
       "      <th>148</th>\n",
       "      <td>Zimbabwe</td>\n",
       "      <td>13</td>\n",
       "      <td>3.0</td>\n",
       "      <td>4</td>\n",
       "      <td>1</td>\n",
       "      <td>8</td>\n",
       "      <td>1.0</td>\n",
       "      <td>0.0</td>\n",
       "      <td>0.0</td>\n",
       "      <td>0.0</td>\n",
       "      <td>0.0</td>\n",
       "      <td>14</td>\n",
       "      <td>3.0</td>\n",
       "      <td>4.0</td>\n",
       "      <td>1.0</td>\n",
       "      <td>8</td>\n",
       "      <td>ZIM</td>\n",
       "    </tr>\n",
       "    <tr>\n",
       "      <th>149</th>\n",
       "      <td>Independent Olympic Athletes</td>\n",
       "      <td>3</td>\n",
       "      <td>1.0</td>\n",
       "      <td>0</td>\n",
       "      <td>1</td>\n",
       "      <td>2</td>\n",
       "      <td>0.0</td>\n",
       "      <td>0.0</td>\n",
       "      <td>0.0</td>\n",
       "      <td>0.0</td>\n",
       "      <td>0.0</td>\n",
       "      <td>3</td>\n",
       "      <td>1.0</td>\n",
       "      <td>NaN</td>\n",
       "      <td>1.0</td>\n",
       "      <td>2</td>\n",
       "      <td>IOA</td>\n",
       "    </tr>\n",
       "    <tr>\n",
       "      <th>150</th>\n",
       "      <td>Independent Olympic Participants</td>\n",
       "      <td>1</td>\n",
       "      <td>0.0</td>\n",
       "      <td>1</td>\n",
       "      <td>2</td>\n",
       "      <td>3</td>\n",
       "      <td>0.0</td>\n",
       "      <td>0.0</td>\n",
       "      <td>0.0</td>\n",
       "      <td>0.0</td>\n",
       "      <td>0.0</td>\n",
       "      <td>1</td>\n",
       "      <td>0.0</td>\n",
       "      <td>1.0</td>\n",
       "      <td>2.0</td>\n",
       "      <td>3</td>\n",
       "      <td>IOP</td>\n",
       "    </tr>\n",
       "    <tr>\n",
       "      <th>151</th>\n",
       "      <td>Mixed team</td>\n",
       "      <td>3</td>\n",
       "      <td>8.0</td>\n",
       "      <td>5</td>\n",
       "      <td>4</td>\n",
       "      <td>17</td>\n",
       "      <td>0.0</td>\n",
       "      <td>0.0</td>\n",
       "      <td>0.0</td>\n",
       "      <td>0.0</td>\n",
       "      <td>0.0</td>\n",
       "      <td>3</td>\n",
       "      <td>8.0</td>\n",
       "      <td>5.0</td>\n",
       "      <td>4.0</td>\n",
       "      <td>17</td>\n",
       "      <td>ZZX</td>\n",
       "    </tr>\n",
       "  </tbody>\n",
       "</table>\n",
       "<p>152 rows × 17 columns</p>\n",
       "</div>"
      ],
      "text/plain": [
       "                                 Land  #Summer Games  Summer_1  Summer_2   \n",
       "0                         Afghanistan             14       0.0         0  \\\n",
       "1                             Algeria             13       5.0         4   \n",
       "2                           Argentina             24      21.0        25   \n",
       "3                             Armenia              6       2.0         6   \n",
       "4                         Australasia              2       3.0         4   \n",
       "..                                ...            ...       ...       ...   \n",
       "147                            Zambia             13       0.0         1   \n",
       "148                          Zimbabwe             13       3.0         4   \n",
       "149      Independent Olympic Athletes              3       1.0         0   \n",
       "150  Independent Olympic Participants              1       0.0         1   \n",
       "151                        Mixed team              3       8.0         5   \n",
       "\n",
       "     Summer_3  Summer_Total  #Winter Games  Winter_1  Winter_2  Winter_3   \n",
       "0           2             2            NaN       0.0       0.0       0.0  \\\n",
       "1           8            17            3.0       0.0       0.0       0.0   \n",
       "2          28            74           19.0       0.0       0.0       0.0   \n",
       "3           6            14            7.0       0.0       0.0       0.0   \n",
       "4           5            12            0.0       0.0       0.0       0.0   \n",
       "..        ...           ...            ...       ...       ...       ...   \n",
       "147         1             2            0.0       0.0       0.0       0.0   \n",
       "148         1             8            1.0       0.0       0.0       0.0   \n",
       "149         1             2            0.0       0.0       0.0       0.0   \n",
       "150         2             3            0.0       0.0       0.0       0.0   \n",
       "151         4            17            0.0       0.0       0.0       0.0   \n",
       "\n",
       "     Winter_Total  #Combined Games  Combined_1  Combined_2  Combined_3   \n",
       "0             0.0               14         0.0         0.0         2.0  \\\n",
       "1             0.0               16         5.0         4.0         8.0   \n",
       "2             0.0               43        21.0        25.0        28.0   \n",
       "3             0.0               13         2.0         6.0         6.0   \n",
       "4             0.0                2         3.0         4.0         5.0   \n",
       "..            ...              ...         ...         ...         ...   \n",
       "147           0.0               13         0.0         1.0         1.0   \n",
       "148           0.0               14         3.0         4.0         1.0   \n",
       "149           0.0                3         1.0         NaN         1.0   \n",
       "150           0.0                1         0.0         1.0         2.0   \n",
       "151           0.0                3         8.0         5.0         4.0   \n",
       "\n",
       "     Combined_Total Code  \n",
       "0                 2  AFG  \n",
       "1                17  ALG  \n",
       "2                74  ARG  \n",
       "3                14  ARM  \n",
       "4                12  ANZ  \n",
       "..              ...  ...  \n",
       "147               2  ZAM  \n",
       "148               8  ZIM  \n",
       "149               2  IOA  \n",
       "150               3  IOP  \n",
       "151              17  ZZX  \n",
       "\n",
       "[152 rows x 17 columns]"
      ]
     },
     "execution_count": 60,
     "metadata": {},
     "output_type": "execute_result"
    }
   ],
   "source": [
    "olympics['Code']=olympics['Land'].apply(lambda x: LandFormat(x)[1])\n",
    "olympics['Land']=olympics['Land'].apply(lambda x: LandFormat(x)[0])\n",
    "olympics"
   ]
  },
  {
   "cell_type": "code",
   "execution_count": 81,
   "metadata": {
    "tags": []
   },
   "outputs": [
    {
     "data": {
      "text/html": [
       "<div>\n",
       "<style scoped>\n",
       "    .dataframe tbody tr th:only-of-type {\n",
       "        vertical-align: middle;\n",
       "    }\n",
       "\n",
       "    .dataframe tbody tr th {\n",
       "        vertical-align: top;\n",
       "    }\n",
       "\n",
       "    .dataframe thead th {\n",
       "        text-align: right;\n",
       "    }\n",
       "</style>\n",
       "<table border=\"1\" class=\"dataframe\">\n",
       "  <thead>\n",
       "    <tr style=\"text-align: right;\">\n",
       "      <th></th>\n",
       "      <th>null value count</th>\n",
       "      <th>percent nulls</th>\n",
       "    </tr>\n",
       "  </thead>\n",
       "  <tbody>\n",
       "    <tr>\n",
       "      <th>Land</th>\n",
       "      <td>0</td>\n",
       "      <td>0.000000</td>\n",
       "    </tr>\n",
       "    <tr>\n",
       "      <th>#Summer Games</th>\n",
       "      <td>0</td>\n",
       "      <td>0.000000</td>\n",
       "    </tr>\n",
       "    <tr>\n",
       "      <th>Summer_1</th>\n",
       "      <td>2</td>\n",
       "      <td>1.315789</td>\n",
       "    </tr>\n",
       "    <tr>\n",
       "      <th>Summer_2</th>\n",
       "      <td>0</td>\n",
       "      <td>0.000000</td>\n",
       "    </tr>\n",
       "    <tr>\n",
       "      <th>Summer_3</th>\n",
       "      <td>0</td>\n",
       "      <td>0.000000</td>\n",
       "    </tr>\n",
       "    <tr>\n",
       "      <th>Summer_Total</th>\n",
       "      <td>0</td>\n",
       "      <td>0.000000</td>\n",
       "    </tr>\n",
       "    <tr>\n",
       "      <th>#Winter Games</th>\n",
       "      <td>4</td>\n",
       "      <td>2.631579</td>\n",
       "    </tr>\n",
       "    <tr>\n",
       "      <th>Winter_1</th>\n",
       "      <td>4</td>\n",
       "      <td>2.631579</td>\n",
       "    </tr>\n",
       "    <tr>\n",
       "      <th>Winter_2</th>\n",
       "      <td>1</td>\n",
       "      <td>0.657895</td>\n",
       "    </tr>\n",
       "    <tr>\n",
       "      <th>Winter_3</th>\n",
       "      <td>3</td>\n",
       "      <td>1.973684</td>\n",
       "    </tr>\n",
       "    <tr>\n",
       "      <th>Winter_Total</th>\n",
       "      <td>3</td>\n",
       "      <td>1.973684</td>\n",
       "    </tr>\n",
       "    <tr>\n",
       "      <th>#Combined Games</th>\n",
       "      <td>0</td>\n",
       "      <td>0.000000</td>\n",
       "    </tr>\n",
       "    <tr>\n",
       "      <th>Combined_1</th>\n",
       "      <td>1</td>\n",
       "      <td>0.657895</td>\n",
       "    </tr>\n",
       "    <tr>\n",
       "      <th>Combined_2</th>\n",
       "      <td>2</td>\n",
       "      <td>1.315789</td>\n",
       "    </tr>\n",
       "    <tr>\n",
       "      <th>Combined_3</th>\n",
       "      <td>5</td>\n",
       "      <td>3.289474</td>\n",
       "    </tr>\n",
       "    <tr>\n",
       "      <th>Combined_Total</th>\n",
       "      <td>0</td>\n",
       "      <td>0.000000</td>\n",
       "    </tr>\n",
       "    <tr>\n",
       "      <th>Code</th>\n",
       "      <td>0</td>\n",
       "      <td>0.000000</td>\n",
       "    </tr>\n",
       "  </tbody>\n",
       "</table>\n",
       "</div>"
      ],
      "text/plain": [
       "                 null value count  percent nulls\n",
       "Land                            0       0.000000\n",
       "#Summer Games                   0       0.000000\n",
       "Summer_1                        2       1.315789\n",
       "Summer_2                        0       0.000000\n",
       "Summer_3                        0       0.000000\n",
       "Summer_Total                    0       0.000000\n",
       "#Winter Games                   4       2.631579\n",
       "Winter_1                        4       2.631579\n",
       "Winter_2                        1       0.657895\n",
       "Winter_3                        3       1.973684\n",
       "Winter_Total                    3       1.973684\n",
       "#Combined Games                 0       0.000000\n",
       "Combined_1                      1       0.657895\n",
       "Combined_2                      2       1.315789\n",
       "Combined_3                      5       3.289474\n",
       "Combined_Total                  0       0.000000\n",
       "Code                            0       0.000000"
      ]
     },
     "execution_count": 81,
     "metadata": {},
     "output_type": "execute_result"
    }
   ],
   "source": [
    "def countNA(df):\n",
    "    nulls = df.isnull().sum()\n",
    "    percent = nulls/len(df)*100\n",
    "    return nulls.to_frame(name='null value count').join(percent.to_frame(name=\"percent nulls\"))\n",
    "countNA(olympics)"
   ]
  },
  {
   "cell_type": "code",
   "execution_count": 86,
   "metadata": {
    "tags": []
   },
   "outputs": [
    {
     "data": {
      "text/html": [
       "<div>\n",
       "<style scoped>\n",
       "    .dataframe tbody tr th:only-of-type {\n",
       "        vertical-align: middle;\n",
       "    }\n",
       "\n",
       "    .dataframe tbody tr th {\n",
       "        vertical-align: top;\n",
       "    }\n",
       "\n",
       "    .dataframe thead th {\n",
       "        text-align: right;\n",
       "    }\n",
       "</style>\n",
       "<table border=\"1\" class=\"dataframe\">\n",
       "  <thead>\n",
       "    <tr style=\"text-align: right;\">\n",
       "      <th></th>\n",
       "      <th>null value count</th>\n",
       "      <th>percent nulls</th>\n",
       "    </tr>\n",
       "  </thead>\n",
       "  <tbody>\n",
       "    <tr>\n",
       "      <th>Land</th>\n",
       "      <td>0</td>\n",
       "      <td>0.0</td>\n",
       "    </tr>\n",
       "    <tr>\n",
       "      <th>#Summer Games</th>\n",
       "      <td>0</td>\n",
       "      <td>0.0</td>\n",
       "    </tr>\n",
       "    <tr>\n",
       "      <th>Summer_1</th>\n",
       "      <td>0</td>\n",
       "      <td>0.0</td>\n",
       "    </tr>\n",
       "    <tr>\n",
       "      <th>Summer_2</th>\n",
       "      <td>0</td>\n",
       "      <td>0.0</td>\n",
       "    </tr>\n",
       "    <tr>\n",
       "      <th>Summer_3</th>\n",
       "      <td>0</td>\n",
       "      <td>0.0</td>\n",
       "    </tr>\n",
       "    <tr>\n",
       "      <th>Summer_Total</th>\n",
       "      <td>0</td>\n",
       "      <td>0.0</td>\n",
       "    </tr>\n",
       "    <tr>\n",
       "      <th>#Winter Games</th>\n",
       "      <td>0</td>\n",
       "      <td>0.0</td>\n",
       "    </tr>\n",
       "    <tr>\n",
       "      <th>Winter_1</th>\n",
       "      <td>0</td>\n",
       "      <td>0.0</td>\n",
       "    </tr>\n",
       "    <tr>\n",
       "      <th>Winter_2</th>\n",
       "      <td>0</td>\n",
       "      <td>0.0</td>\n",
       "    </tr>\n",
       "    <tr>\n",
       "      <th>Winter_3</th>\n",
       "      <td>0</td>\n",
       "      <td>0.0</td>\n",
       "    </tr>\n",
       "    <tr>\n",
       "      <th>Winter_Total</th>\n",
       "      <td>0</td>\n",
       "      <td>0.0</td>\n",
       "    </tr>\n",
       "    <tr>\n",
       "      <th>#Combined Games</th>\n",
       "      <td>0</td>\n",
       "      <td>0.0</td>\n",
       "    </tr>\n",
       "    <tr>\n",
       "      <th>Combined_1</th>\n",
       "      <td>0</td>\n",
       "      <td>0.0</td>\n",
       "    </tr>\n",
       "    <tr>\n",
       "      <th>Combined_2</th>\n",
       "      <td>0</td>\n",
       "      <td>0.0</td>\n",
       "    </tr>\n",
       "    <tr>\n",
       "      <th>Combined_3</th>\n",
       "      <td>0</td>\n",
       "      <td>0.0</td>\n",
       "    </tr>\n",
       "    <tr>\n",
       "      <th>Combined_Total</th>\n",
       "      <td>0</td>\n",
       "      <td>0.0</td>\n",
       "    </tr>\n",
       "    <tr>\n",
       "      <th>Code</th>\n",
       "      <td>0</td>\n",
       "      <td>0.0</td>\n",
       "    </tr>\n",
       "  </tbody>\n",
       "</table>\n",
       "</div>"
      ],
      "text/plain": [
       "                 null value count  percent nulls\n",
       "Land                            0            0.0\n",
       "#Summer Games                   0            0.0\n",
       "Summer_1                        0            0.0\n",
       "Summer_2                        0            0.0\n",
       "Summer_3                        0            0.0\n",
       "Summer_Total                    0            0.0\n",
       "#Winter Games                   0            0.0\n",
       "Winter_1                        0            0.0\n",
       "Winter_2                        0            0.0\n",
       "Winter_3                        0            0.0\n",
       "Winter_Total                    0            0.0\n",
       "#Combined Games                 0            0.0\n",
       "Combined_1                      0            0.0\n",
       "Combined_2                      0            0.0\n",
       "Combined_3                      0            0.0\n",
       "Combined_Total                  0            0.0\n",
       "Code                            0            0.0"
      ]
     },
     "execution_count": 86,
     "metadata": {},
     "output_type": "execute_result"
    }
   ],
   "source": [
    "filtered = olympics.fillna(0)#, inplace=True)\n",
    "countNA(filtered)"
   ]
  },
  {
   "cell_type": "code",
   "execution_count": 87,
   "metadata": {
    "tags": []
   },
   "outputs": [
    {
     "name": "stdout",
     "output_type": "stream",
     "text": [
      "<class 'pandas.core.frame.DataFrame'>\n",
      "RangeIndex: 152 entries, 0 to 151\n",
      "Data columns (total 17 columns):\n",
      " #   Column           Non-Null Count  Dtype  \n",
      "---  ------           --------------  -----  \n",
      " 0   Land             152 non-null    object \n",
      " 1   #Summer Games    152 non-null    int64  \n",
      " 2   Summer_1         152 non-null    float64\n",
      " 3   Summer_2         152 non-null    int64  \n",
      " 4   Summer_3         152 non-null    int64  \n",
      " 5   Summer_Total     152 non-null    int64  \n",
      " 6   #Winter Games    152 non-null    float64\n",
      " 7   Winter_1         152 non-null    float64\n",
      " 8   Winter_2         152 non-null    float64\n",
      " 9   Winter_3         152 non-null    float64\n",
      " 10  Winter_Total     152 non-null    float64\n",
      " 11  #Combined Games  152 non-null    int64  \n",
      " 12  Combined_1       152 non-null    float64\n",
      " 13  Combined_2       152 non-null    float64\n",
      " 14  Combined_3       152 non-null    float64\n",
      " 15  Combined_Total   152 non-null    int64  \n",
      " 16  Code             152 non-null    object \n",
      "dtypes: float64(9), int64(6), object(2)\n",
      "memory usage: 20.3+ KB\n"
     ]
    }
   ],
   "source": [
    "filtered.info()"
   ]
  },
  {
   "cell_type": "code",
   "execution_count": 98,
   "metadata": {
    "tags": []
   },
   "outputs": [
    {
     "data": {
      "text/plain": [
       "Land                object\n",
       "#Summer Games        int64\n",
       "Summer_1           float64\n",
       "Summer_2             int64\n",
       "Summer_3             int64\n",
       "Summer_Total         int64\n",
       "#Winter Games      float64\n",
       "Winter_1           float64\n",
       "Winter_2           float64\n",
       "Winter_3           float64\n",
       "Winter_Total       float64\n",
       "#Combined Games      int64\n",
       "Combined_1         float64\n",
       "Combined_2         float64\n",
       "Combined_3         float64\n",
       "Combined_Total       int64\n",
       "Code                object\n",
       "dtype: object"
      ]
     },
     "execution_count": 98,
     "metadata": {},
     "output_type": "execute_result"
    }
   ],
   "source": [
    "filtered.dtypes"
   ]
  },
  {
   "cell_type": "code",
   "execution_count": 119,
   "metadata": {
    "tags": []
   },
   "outputs": [
    {
     "data": {
      "text/plain": [
       "Land               object\n",
       "#Summer Games       int64\n",
       "Summer_1            int64\n",
       "Summer_2            int64\n",
       "Summer_3            int64\n",
       "Summer_Total        int64\n",
       "#Winter Games       int64\n",
       "Winter_1            int64\n",
       "Winter_2            int64\n",
       "Winter_3            int64\n",
       "Winter_Total        int64\n",
       "#Combined Games     int64\n",
       "Combined_1          int64\n",
       "Combined_2          int64\n",
       "Combined_3          int64\n",
       "Combined_Total      int64\n",
       "Code               object\n",
       "dtype: object"
      ]
     },
     "execution_count": 119,
     "metadata": {},
     "output_type": "execute_result"
    }
   ],
   "source": [
    "dtypes = filtered.dtypes\n",
    "dtypes.values[dtypes.values!=np.dtype('O')] = np.dtype('int64')\n",
    "filtered = filtered.astype(dtypes)\n",
    "filtered.dtypes"
   ]
  },
  {
   "cell_type": "code",
   "execution_count": null,
   "metadata": {},
   "outputs": [],
   "source": []
  }
 ],
 "metadata": {
  "kernelspec": {
   "display_name": "Python 3 (ipykernel)",
   "language": "python",
   "name": "python3"
  },
  "language_info": {
   "codemirror_mode": {
    "name": "ipython",
    "version": 3
   },
   "file_extension": ".py",
   "mimetype": "text/x-python",
   "name": "python",
   "nbconvert_exporter": "python",
   "pygments_lexer": "ipython3",
   "version": "3.10.5"
  }
 },
 "nbformat": 4,
 "nbformat_minor": 4
}
