{
 "cells": [
  {
   "cell_type": "markdown",
   "metadata": {},
   "source": [
    "### Labo Week 1 : Datastructuren in Python"
   ]
  },
  {
   "cell_type": "markdown",
   "metadata": {
    "slideshow": {
     "slide_type": "notes"
    }
   },
   "source": [
    "#### Alvast 10 bijzonderheden van de taal : \n",
    "\n",
    "> 1. Python is een geïnterpreteerde taal\n",
    "> 2. Code wordt gestructureerd via spaties / tabs en niet via accolades\n",
    "\n",
    "        for x in array:\n",
    "            if x < 4:\n",
    "                result = True\n",
    "> 3. Python is dynamisch en sterk getypeerd\n",
    "> 4. Alles is een object in Python : getallen, strings, data structuren, functies, classes, ... \n",
    "   en elk object heeft interne data en een type\n",
    "> 5. Commentaar plaats je achter de hash mark : # dit zal genegeerd worden\n",
    "> 6. Functies kunnen _positional_ en _keyword_ argumenten hebben : result = f(a,b,c,d=5,e='foo')\n",
    "> 7. The Python null value type is *None*\n",
    "> 8. Python built-in data structures : Tuple, List, Set, Dictionary\n",
    "> 9. Python Libraries : numPy, pandas, scikit-learn\n",
    "> 10. Matplotlib Integratie\n",
    "\n",
    "Meer bijzonderheden te ontdekken ivm basis Python : https://docs.python.org/3/tutorial/"
   ]
  },
  {
   "cell_type": "markdown",
   "metadata": {},
   "source": [
    "### Deel 1  : Functies in Python\n",
    "\n",
    "Functies worden aangemaakt via het `def` keyword. Via ronde haken geef je parameters mee (_positional_ en _keyword_). Via keyword `return` geef je een resultaat terug."
   ]
  },
  {
   "cell_type": "markdown",
   "metadata": {},
   "source": [
    "**_Oefening 1_** : \n",
    "Schrijf een programma dat de conversie van Celsius naar Fahrenheit doet. \n",
    "De conversieformule is $^\\circ$F = 9/ 5 * $^\\circ$C + 32. \n",
    "Controleer de correcte uitvoer van je programma: 12$^\\circ$C = 53.6$^\\circ$F .\n",
    "\n",
    "Maak tevens de omgekeerde conversie van Fahrenheit naar Celsius. Controleer opnieuw de\n",
    "correcte uitvoer van je programma: 77$^\\circ$F = 25$^\\circ$C."
   ]
  },
  {
   "cell_type": "code",
   "execution_count": 5,
   "metadata": {},
   "outputs": [],
   "source": [
    "def f_to_c(value):\n",
    "    return (value-32)*5/9"
   ]
  },
  {
   "cell_type": "code",
   "execution_count": 6,
   "metadata": {},
   "outputs": [],
   "source": [
    "def c_to_f(value):\n",
    "    return (9/5)*value + 32"
   ]
  },
  {
   "cell_type": "code",
   "execution_count": 7,
   "metadata": {},
   "outputs": [
    {
     "name": "stdout",
     "output_type": "stream",
     "text": [
      "c to f (12): 53.6\n",
      "f to c (77): 25.0\n"
     ]
    }
   ],
   "source": [
    "print(f\"c to f (12): {c_to_f(12)}\")\n",
    "print(f\"f to c (77): {f_to_c(77)}\")"
   ]
  },
  {
   "cell_type": "markdown",
   "metadata": {},
   "source": [
    "**_Oefening 2_** : Schrijf een programma waarbij je de gebruiker zijn voornaam, naam en vervolgens zijn leeftijd vraagt. Verwelkom deze gebruiker en laat hem weten in welk jaar deze de leeftijd van 100 jaar zal bereiken.  \n",
    "\n",
    "**Tips** : \n",
    "- Maak gebruik van de datetime module.\n",
    "- Via de `input()` methode kan je de gebruiker input laten geven. "
   ]
  },
  {
   "cell_type": "code",
   "execution_count": 10,
   "metadata": {},
   "outputs": [
    {
     "name": "stdin",
     "output_type": "stream",
     "text": [
      "voornaam:  kenzo\n",
      "naam:  staelens\n",
      "leeftijd:  21\n"
     ]
    },
    {
     "name": "stdout",
     "output_type": "stream",
     "text": [
      "hallo kenzo staelens, je zal 100 jaar bereiken in 2102\n"
     ]
    }
   ],
   "source": [
    "from datetime import datetime\n",
    "voornaam = input(\"voornaam: \")\n",
    "naam = input(\"naam: \")\n",
    "leeftijd = input(\"leeftijd: \")\n",
    "print(f\"hallo {voornaam} {naam}, je zal 100 jaar bereiken in {datetime.now().year+100-int(leeftijd)}\")"
   ]
  },
  {
   "cell_type": "markdown",
   "metadata": {},
   "source": [
    "**_Oefening 3_** : Schrijf de functie $omtrek\\_opp$ die een straal als input neemt en zowel de omtrek als oppervlakte van de cirkel als resultaat teruggeeft in een tuple."
   ]
  },
  {
   "cell_type": "code",
   "execution_count": 144,
   "metadata": {},
   "outputs": [
    {
     "name": "stdout",
     "output_type": "stream",
     "text": [
      "straal: 1; oppervlakte: 3.141592653589793; omtrek: 6.283185307179586\n"
     ]
    }
   ],
   "source": [
    "from math import pi\n",
    "def omtrek_opp(straal):\n",
    "    return (pi*straal**2, 2*pi*straal)\n",
    "\n",
    "o_o = omtrek_opp(1)\n",
    "print(f\"straal: {1}; oppervlakte: {o_o[0]}; omtrek: {o_o[1]}\")"
   ]
  },
  {
   "cell_type": "markdown",
   "metadata": {},
   "source": [
    "**_Oefening 4_** : \n",
    "\n",
    "**4.1** Definieer 2 lijsten: ééntje met de letters van het woord 'boterham' en ééntje met letters van het woord 'hamvraag'\n",
    "\n",
    "**4.2** Schrijf een functie _klinkers_ die een lijst van letters filtert zodanig dat enkel de klinkers overblijven \n",
    "\n",
    "**4.3** Roep de functie aan op je 2 lijsten\n",
    "\n",
    "**4.4** Ga na welke klinkers ze gemeenschappelijk hebben\n"
   ]
  },
  {
   "cell_type": "code",
   "execution_count": 12,
   "metadata": {},
   "outputs": [
    {
     "name": "stdout",
     "output_type": "stream",
     "text": [
      "{'a'}\n"
     ]
    }
   ],
   "source": [
    "boterham, hamvraag = [x for x in \"boterham\"], [x for x in \"hamvraag\"]\n",
    "def klinkers(lijst):\n",
    "    return [x for x in lijst if x in \"aieou\"]\n",
    "\n",
    "x1,x2 = set(klinkers(boterham)),set(klinkers(hamvraag))\n",
    "print(x1&x2)"
   ]
  },
  {
   "cell_type": "markdown",
   "metadata": {},
   "source": [
    "**_Oefening 5_**  Schrijf een functie die een lijst van woorden als parameter krijgt en die het woord met het minst aantal klinkers en het woord met het meest aantal klinkers van deze lijst opnieuw uitprint naar het scherm. (Bij ex aequo print je het eerste woord af)."
   ]
  },
  {
   "cell_type": "code",
   "execution_count": 16,
   "metadata": {},
   "outputs": [
    {
     "name": "stdout",
     "output_type": "stream",
     "text": [
      "abc abcdef\n"
     ]
    }
   ],
   "source": [
    "def print_min_max_woorden(lijst):\n",
    "    _min = None\n",
    "    _max = None\n",
    "    for woord in lijst:\n",
    "        if _min==None or len(klinkers(_min))>len(klinkers(woord)):\n",
    "            _min = woord\n",
    "        if _max==None or len(klinkers(_max))<len(klinkers(woord)):\n",
    "            _max = woord\n",
    "    print(_min, _max)\n",
    "\n",
    "print_min_max_woorden([\"abcde\",\"abc\", \"abd\",\"abcdef\",\"abcd\", \"abcdeg\"])"
   ]
  },
  {
   "cell_type": "markdown",
   "metadata": {},
   "source": [
    "**_Oefening 6_** : Schrijf een python functie $divisors$  die gegeven een getal als input, \n",
    "    als resultaat alle delers van dat getal teruggeeft. \n",
    "  \n",
    "  **Tip:** maak gebruik van de range() functie.\n"
   ]
  },
  {
   "cell_type": "code",
   "execution_count": 18,
   "metadata": {},
   "outputs": [
    {
     "name": "stdout",
     "output_type": "stream",
     "text": [
      "[1, 2, 4, 5, 10]\n"
     ]
    }
   ],
   "source": [
    "def divisors(getal):\n",
    "    return [x for x in range(1,getal) if getal%x==0]\n",
    "\n",
    "print(divisors(20))"
   ]
  },
  {
   "cell_type": "markdown",
   "metadata": {},
   "source": [
    "**_Oefening 7_** Schrijf een Python functie $vraag\\_zin$ die een zin inleest in de vorm van een String en er een vraagzin van maakt door de eerste twee woorden om te wisselen en achteraan een vraagteken toe te voegen.\n",
    "\n",
    "$vraagzin$(\"ik zou beter moeten weten\")\n",
    "\n",
    "\\>> Zou ik beter moeten weten?\n",
    "\n",
    "\n",
    "**Tip:** Zet je string eerst om naar een lijst via de $split$ functie, nadien zet je het eindresultaat weer om naar een string via de $join$ functie."
   ]
  },
  {
   "cell_type": "code",
   "execution_count": 19,
   "metadata": {},
   "outputs": [
    {
     "data": {
      "text/plain": [
       "'zou ik beter moeten weten?'"
      ]
     },
     "execution_count": 19,
     "metadata": {},
     "output_type": "execute_result"
    }
   ],
   "source": [
    "def vraag_zin(zin):\n",
    "    temp = zin.split(\" \")\n",
    "    temp[0],temp[1] = temp[1], temp[0]\n",
    "    return \" \".join(temp)+\"?\"\n",
    "\n",
    "vraag_zin(\"ik zou beter moeten weten\")"
   ]
  },
  {
   "cell_type": "markdown",
   "metadata": {},
   "source": [
    "**_Oefening 8_** Schrijf een functie $blok\\_zin$ die een zin (= lijst van woorden) inleest en deze terugschrijft naar het scherm maar telkens in blokken van 5 letters. Spaties komen dus op een andere plaats te staan. Het laatste blokje letters bevat het restje (mogelijk kleiner dan 5 letters)\n",
    "\n",
    "Bijvoorbeeld :\n",
    "\n",
    "Geef je zin :\n",
    "\n",
    "'Een korte maar wel een echte zin'\n",
    "\n",
    "Dit geeft :\n",
    "\n",
    "'Eenko rtema arwel eenec htezi n'\n",
    "\n",
    "**Tip:** Maak opnieuw gebruik van de $range$ methode, nu in de versie met 3 parameters zodat je een step-size kan meegeven."
   ]
  },
  {
   "cell_type": "code",
   "execution_count": 22,
   "metadata": {},
   "outputs": [
    {
     "name": "stdout",
     "output_type": "stream",
     "text": [
      "ditis eente stzin end  "
     ]
    }
   ],
   "source": [
    "def blok_zin(zin):\n",
    "    nospace = zin.replace(\" \",\"\")\n",
    "    for i in range(0,len(zin),5):\n",
    "        print(nospace[i:i+5],end=\" \")\n",
    "\n",
    "blok_zin(\"dit is een test zin end\")"
   ]
  },
  {
   "cell_type": "markdown",
   "metadata": {},
   "source": [
    "### Deel 2 : Datastructuren in Python : tuples, lijsten, dictionnaries en sets"
   ]
  },
  {
   "cell_type": "markdown",
   "metadata": {},
   "source": [
    "**_Oefening 9_** data inlezen van file en omzetten naar een lijst van tuples\n",
    "\n",
    "Gegeven een tekstbestand met namen van personen en hun geboortedatum. (file : DataLabo_01.txt).\n",
    "Lees dit bestand in via volgende code :\n",
    "\n",
    "    with open ('file_to_read.txt') as open_file:\n",
    "        for line in file :\n",
    "            ...\n",
    "\n",
    "Om de '\\n' van de ingelezen lijn te verwijderen kan je gebruik maken van de $rstrip()$ functie.\n",
    "\n",
    "Maak nu een lijst van tuples, waarbij elke tuple de gegevens van 1 persoon bevat als volgt : \n",
    "\n",
    "\\[('Albert', 'Einstein', '03/14/1879'), ('Benjamin', 'Franklin', '01/17/1706'), ('J.', 'Edgar', 'Hoover', '01/01/1895'), $\\ldots$\n",
    " \n",
    " Wanneer je deze lijst gemaakt hebt geef je de eerste 5 en laatste 5 personen uit de lijst weer."
   ]
  },
  {
   "cell_type": "code",
   "execution_count": 30,
   "metadata": {},
   "outputs": [
    {
     "name": "stdout",
     "output_type": "stream",
     "text": [
      "[('Albert', 'Einstein', '03/14/1879'), ('Benjamin', 'Franklin', '01/17/1706'), ('J.', 'Edgar', 'Hoover', '01/01/1895'), ('Mel', 'Gibson', '01/03/1956'), ('Michael', 'Schumacher', '01/03/1969')]\n"
     ]
    }
   ],
   "source": [
    "with open(\"DataLabo1_01.txt\",\"r\") as f:\n",
    "    tup = [tuple(line.rstrip().split(\" \")) for line in f]\n",
    "    print(tup[:5])\n"
   ]
  },
  {
   "cell_type": "markdown",
   "metadata": {},
   "source": [
    "**_Oefening 10_** : Sorteren\n",
    "\n",
    "Elk tuple bevat voornaam, achternaam eventueel initialen en het laatste element zijn geboortedatum. \n",
    "\n",
    "**10.1** Zorg ervoor dat de string die de geboortedatum voorstelt ook effectief omgevormd wordt tot een $date$ object :\n",
    "        \n",
    "        [(('Albert', 'Einstein'), datetime.date(1879, 3, 14)), ...\n",
    "        \n",
    "  en maak van de naam 1 apart string bv : \n",
    "  \n",
    "      ('J. Edgar Hoover', datetime.date(1895, 1, 1)),\n",
    "      \n",
    "  \n",
    "  _Tip_ Gebruik de methode $join$ \n",
    "        \n",
    "**10.2** Sorteer vervolgens de verkregen lijst met tuples op 2 verschillende manieren : eerst op naam, vervolgens op leeftijd. \n",
    "\n",
    "_Tip_ : Je kan ofwel de $sort$ methode op lijsten gebruiken, ofwel de functie $sorted$ die algemeen werkt op sequences. Wat is het verschil?\n",
    "\n",
    "**10.3** Geef de oudste en jongste uit de lijst weer  \n"
   ]
  },
  {
   "cell_type": "code",
   "execution_count": 50,
   "metadata": {},
   "outputs": [
    {
     "name": "stdout",
     "output_type": "stream",
     "text": [
      "[(('Albert', 'Einstein'), datetime.date(1879, 3, 14)), (('Benjamin', 'Franklin'), datetime.date(1706, 1, 17)), (('J.', 'Edgar', 'Hoover'), datetime.date(1895, 1, 1)), (('Mel', 'Gibson'), datetime.date(1956, 1, 3)), (('Michael', 'Schumacher'), datetime.date(1969, 1, 3))]\n",
      "[('Albert Einstein', datetime.date(1879, 3, 14)), ('Benjamin Franklin', datetime.date(1706, 1, 17)), ('J. Edgar Hoover', datetime.date(1895, 1, 1)), ('Mel Gibson', datetime.date(1956, 1, 3)), ('Michael Schumacher', datetime.date(1969, 1, 3))]\n",
      "(('Isaac Newton', datetime.date(1642, 12, 25)), ('Prins Harry', datetime.date(1984, 9, 15)))\n"
     ]
    }
   ],
   "source": [
    "import datetime\n",
    "\n",
    "def gen_date(datestr):\n",
    "    datearr = [int(x) for x in datestr.split(\"/\")]\n",
    "    datearr[0], datearr[1],datearr[2] = datearr[2],datearr[0],datearr[1]\n",
    "    return datetime.date(*datearr)\n",
    "\n",
    "def oldest_and_youngest(people):\n",
    "    _min = None\n",
    "    _max = None\n",
    "    for person in people:\n",
    "        if _min==None or min(_min[1],person[1])==person[1]:\n",
    "            _min = person\n",
    "        if _max==None or max(_max[1],person[1])==person[1]:\n",
    "            _max = person\n",
    "    return (_min, _max)\n",
    "\n",
    "with open(\"DataLabo1_01.txt\",\"r\") as f:\n",
    "    tup = [(tuple(line.rstrip().split(\" \")[:-1]),gen_date(line.rstrip().split(\" \")[-1])) for line in f]\n",
    "    print(tup[:5])\n",
    "\n",
    "\n",
    "with open(\"DataLabo1_01.txt\",\"r\") as f:\n",
    "    tup = [tuple([ \" \".join(line.rstrip().split(\" \")[:-1]) , gen_date(line.rstrip().split(\" \")[-1]) ]) for line in f]\n",
    "    print(tup[:5])\n",
    "    print(oldest_and_youngest(tup))"
   ]
  },
  {
   "cell_type": "markdown",
   "metadata": {},
   "source": [
    "**_Oefening 11_** : Maak een maandkalender. Gebruik opnieuw de data uit datafile : ´DataLabo_01.txt´\n",
    "\n",
    " **11.1** Maak eerst een dictionary waarin maanden de keys en als values het aantal jarigen in die maand.\n",
    "   Tel dus voor elke maand hoeveel personen in je dictionary jarig zijn. \n",
    "   \n",
    " **11.2**  Maak ook een dictionary waarin maanden de keys zijn en als value kies je een set van alle personen die in die maand jarig zijn\n",
    "\n",
    "_Tip_ : je kan gebruik maken van $defaultdict$ uit module $collections$\n",
    "\n",
    "_Tip_ : alternatief kan je ook werken met een $counter \\; object$ eveneens uit de module $collections$ om de telling te doen"
   ]
  },
  {
   "cell_type": "code",
   "execution_count": 110,
   "metadata": {},
   "outputs": [
    {
     "name": "stdout",
     "output_type": "stream",
     "text": [
      "{1: 7, 2: 1, 3: 6, 4: 3, 5: 5, 6: 4, 7: 2, 8: 1, 9: 4, 10: 2, 11: 3, 12: 0}\n",
      "{1: {'Brandon Lee', 'William Clark', 'Yves Saint-Laurent', 'Julie Andrews', 'J. Edgar Hoover', 'Prinses Diana', 'John Ford'}, 2: {'Benjamin Spock'}, 3: {'Michael Schumacher', 'Mel Gibson', 'James Brown', 'Marlon Brando', 'Tom Cruise', 'Dolph Lungren'}, 4: {'Alice Cooper', 'Charles Lindbergh', 'Louis Armstrong'}, 5: {'Kate Winslet', 'Freddy Mercury', 'Karl Marx', 'Bette Davies', 'Bob Geldof'}, 6: {'Dalai Lama', 'Axl Rose', 'Sigmund Freud', 'Ronald Reagon'}, 7: {'Charles Dickens', 'Russel Crowe'}, 8: {'Tara Reid'}, 9: {'Bobby Fisher', 'O.J. Simpson', 'Richard Nixon', 'Hugh Grant'}, 10: {'Robert Wagner', 'Osama Bin Laden'}, 11: {'Jennifer Anniston', 'Leonardo di Caprio', 'Demi Moore'}, 12: set()}\n"
     ]
    }
   ],
   "source": [
    "def list_for_keys(key, dateidx, concat=[]):\n",
    "    with open(\"DataLabo1_01.txt\",\"r\") as f:\n",
    "        initline = [line for line in f]\n",
    "        lines = initline + concat\n",
    "        return [line for line in lines if int(line.rstrip().split(\" \")[-1].split(\"/\")[dateidx])==key]\n",
    "\n",
    "dict1 = {key:len(value) for (key, value) in [(i, list_for_keys(i,1)) for i in range(1,13)] }\n",
    "dict2 = {key:set(value) for (key, value) in [(i, [\" \".join(j.split(\" \")[:-1]) for j in list_for_keys(i,1)]) for i in range(1,13)] }\n",
    "print(dict1)\n",
    "print(dict2)"
   ]
  },
  {
   "cell_type": "markdown",
   "metadata": {},
   "source": [
    "**_Oefening 12_** : \n",
    "\n",
    "**12.1** Breid je eerder gemaakt **lijst** van verjaardagen uit met volgende personen :\n",
    "\n",
    "- Roger Federer 1981/08/08\n",
    "- Dustin Hoffman 1937/08/08\n",
    "- Vanessa Amorosi 1981/08/08\n",
    "- Whitney Houston 1963/08/09\n",
    "- Meat Loaf 1947/09/27\n",
    "- Cheryl Tiegs 1947/09/27\n",
    "- Robert Redford 1936/08/18\n",
    "\n",
    "\n",
    "**12.2** Maak een jaarkalender :\n",
    "Maak voor elk jaartal (aanwezig in de data) een verzameling van personen die in dat jaar geboren zijn. Stop je resultaat in een dict als volgt : key = jaartal; value= verzameling personen. Welke personen zijn in hte jaar 1948 geboren?\n",
    "\n",
    "**12.3** Maak nu een verjaardagskalender : \n",
    "Maak voor elke dag in de maand een verzameling van personen die op deze dag van de maand jarig zijn. Stop je resultaat in een dict als volgt : key = (dag); value= verzameling personen. Welke personen verjaren op 4 februari? Welke personen verjaren op 18 augustus?"
   ]
  },
  {
   "cell_type": "code",
   "execution_count": 126,
   "metadata": {},
   "outputs": [
    {
     "name": "stdout",
     "output_type": "stream",
     "text": [
      "{1: 10, 2: 13, 3: 4, 4: 5, 5: 9, 6: 4, 7: 0, 8: 10, 9: 7, 10: 6, 11: 6, 12: 1}\n",
      "{1: {'Michael Schumacher', 'Mel Gibson', 'Phill Collins', 'Richard Nixon', 'Betty White', 'Bridget Fonda', 'J. Edgar Hoover', 'Mohammed Ali', 'Orlando Bloom', 'Benjamin Franklin'}, 2: {'Charles Dickens', 'Brandon Lee', 'Steven Jobs', 'Johnny Cash', 'Axl Rose', 'Nina Simone', 'Alice Cooper', 'Charles Lindbergh', 'Robert Wagner', 'Ronald Reagon', 'Elisabeth Taylor', 'Jennifer Anniston', 'John Ford'}, 3: {'Bobby Fisher', 'Aretha Franklin', 'Osama Bin Laden', 'Albert Einstein'}, 4: {'Al Pacino', 'Russel Crowe', 'Bette Davies', 'Iggy Pop', 'Marlon Brando'}, 5: {'George Lukas', 'James Brown', 'Karl Marx', 'Madeleine Albright', 'Bob Dylan', 'John F.  Kennedy', 'Naomi Campbell', 'Benjamin Spock', 'Sigmund Freud'}, 6: {'Dalai Lama', 'O.J. Simpson', 'Tom Cruise', 'Prinses Diana'}, 7: set(), 8: {'Roman Polanski', 'Ben Affleck', 'Robert Redford', 'William Clark', 'Tori Amos', 'Moeder Teresa', 'Louis Armstrong', 'Patrick Swayze', 'Yves Saint-Laurent', 'Steve Martin'}, 9: {'Bruce Springsteen', 'Freddy Mercury', 'Leonard Cohen', 'Stephen King', 'Hugh Grant', 'Oliver Stone', 'Prins Harry'}, 10: {'Kate Winslet', 'Oscar Wilde', 'Julie Andrews', 'Cliff Richard', 'Bob Geldof', 'Alfred Nobel'}, 11: {'Tara Reid', 'Prins Charles', 'Leonardo di Caprio', 'Condoleezza Rice', 'Demi Moore', 'Dolph Lungren'}, 12: {'Isaac Newton'}}\n",
      "{1922: {'Betty White'}, 1924: {'Marlon Brando'}, 1930: {'Robert Wagner'}, 1932: {'Johnny Cash', 'Elisabeth Taylor'}, 1933: {'Roman Polanski', 'Nina Simone', 'James Brown'}, 1934: {'Leonard Cohen'}, 1935: {'Dalai Lama', 'Julie Andrews'}, 1936: {'Robert Redford', 'Yves Saint-Laurent'}, 1937: {'Madeleine Albright'}, 1812: {'Charles Dickens'}, 1940: {'Al Pacino', 'Cliff Richard'}, 1942: {'Mohammed Ali', 'Aretha Franklin'}, 1943: {'Bobby Fisher'}, 1944: {'George Lukas'}, 1941: {'Bob Dylan'}, 1818: {'Karl Marx'}, 1947: {'Iggy Pop', 'Stephen King', 'O.J. Simpson'}, 1948: {'Prins Charles', 'Alice Cooper'}, 1945: {'Steve Martin'}, 1946: {'Oliver Stone', 'Freddy Mercury'}, 1951: {'Phill Collins'}, 1952: {'Patrick Swayze'}, 1949: {'Bruce Springsteen'}, 1954: {'Bob Geldof', 'Condoleezza Rice'}, 1955: {'Steven Jobs'}, 1956: {'Mel Gibson'}, 1957: {'Osama Bin Laden'}, 1959: {'Dolph Lungren'}, 1960: {'Hugh Grant'}, 1961: {'Prinses Diana'}, 1706: {'Benjamin Franklin'}, 1962: {'Axl Rose', 'Demi Moore', 'Tom Cruise'}, 1964: {'Russel Crowe', 'Bridget Fonda'}, 1965: {'Brandon Lee'}, 1963: {'Tori Amos'}, 1833: {'Alfred Nobel'}, 1969: {'Michael Schumacher', 'Jennifer Anniston'}, 1970: {'Naomi Campbell'}, 1972: {'Ben Affleck'}, 1974: {'Leonardo di Caprio'}, 1975: {'Tara Reid', 'Kate Winslet'}, 1977: {'Orlando Bloom'}, 1854: {'Oscar Wilde'}, 1856: {'Sigmund Freud'}, 1984: {'Prins Harry'}, 1879: {'Albert Einstein'}, 1895: {'John Ford', 'J. Edgar Hoover'}, 1770: {'William Clark'}, 1642: {'Isaac Newton'}, 1901: {'Louis Armstrong'}, 1902: {'Charles Lindbergh'}, 1903: {'Benjamin Spock'}, 1908: {'Bette Davies'}, 1910: {'Moeder Teresa'}, 1911: {'Ronald Reagon'}, 1913: {'Richard Nixon'}, 1917: {'John F.  Kennedy'}}\n",
      "{1: {'Brandon Lee', 'William Clark', 'Yves Saint-Laurent', 'Julie Andrews', 'J. Edgar Hoover', 'Prinses Diana', 'John Ford'}, 2: {'Benjamin Spock'}, 3: {'Michael Schumacher', 'Mel Gibson', 'James Brown', 'Marlon Brando', 'Tom Cruise', 'Dolph Lungren'}, 4: {'Alice Cooper', 'Charles Lindbergh', 'Louis Armstrong'}, 5: {'Kate Winslet', 'Freddy Mercury', 'Karl Marx', 'Bette Davies', 'Bob Geldof'}, 6: {'Dalai Lama', 'Axl Rose', 'Sigmund Freud', 'Ronald Reagon'}, 7: {'Charles Dickens', 'Russel Crowe'}, 8: {'Tara Reid', 'Roger Federer', 'Whitney Houston', 'Robert Redford', 'Dustin Hoffman', 'Vanessa Amorosi'}, 9: {'Hugh Grant', 'O.J. Simpson', 'Richard Nixon', 'Cheryl Tiegs', 'Meat Loaf', 'Bobby Fisher'}, 10: {'Robert Wagner', 'Osama Bin Laden'}, 11: {'Jennifer Anniston', 'Leonardo di Caprio', 'Demi Moore'}, 13: {'Orlando Bloom'}, 14: {'George Lukas', 'Prins Charles', 'Steve Martin', 'Cliff Richard', 'Condoleezza Rice', 'Albert Einstein'}, 15: {'Madeleine Albright', 'Oliver Stone', 'Prins Harry', 'Ben Affleck'}, 16: {'Oscar Wilde'}, 17: {'Mohammed Ali', 'Betty White', 'Benjamin Franklin'}, 18: {'Robert Redford', 'Roman Polanski', 'Patrick Swayze'}, 21: {'Leonard Cohen', 'Nina Simone', 'Stephen King', 'Iggy Pop', 'Alfred Nobel'}, 22: {'Naomi Campbell', 'Tori Amos'}, 23: {'Bruce Springsteen'}, 24: {'Steven Jobs', 'Bob Dylan'}, 25: {'Al Pacino', 'Aretha Franklin', 'Isaac Newton'}, 26: {'Johnny Cash'}, 27: {'Elisabeth Taylor', 'Moeder Teresa', 'Bridget Fonda'}, 29: {'John F.  Kennedy'}, 30: {'Phill Collins'}}\n"
     ]
    }
   ],
   "source": [
    "def keyset(index):\n",
    "    with open(\"DataLabo1_01.txt\",\"r\") as f:\n",
    "        return list(set(int(line.rstrip().split(\" \")[-1].split(\"/\")[index]) for line in f))\n",
    "\n",
    "mls = \"\"\"Roger Federer 1981/08/08\n",
    "Dustin Hoffman 1937/08/08\n",
    "Vanessa Amorosi 1981/08/08\n",
    "Whitney Houston 1963/08/09\n",
    "Meat Loaf 1947/09/27\n",
    "Cheryl Tiegs 1947/09/27\n",
    "Robert Redford 1936/08/18\"\"\".split(\"\\n\")\n",
    "dict3 = {key:len(value) for (key, value) in [(i, list_for_keys(i,0,mls)) for i in range(1,13)] }\n",
    "dict4 = {key:set(value) for (key, value) in [(i, [\" \".join(j.split(\" \")[:-1]) for j in list_for_keys(i,0,mls)]) for i in range(1,13)] }\n",
    "print(dict3)\n",
    "print(dict4)\n",
    "\n",
    "dict5 = {key:set(value) for (key, value) in [(i, [\" \".join(j.split(\" \")[:-1]) for j in list_for_keys(i,2,mls)]) for i in keyset(2)] }#jaar\n",
    "dict6 = {key:set(value) for (key, value) in [(i, [\" \".join(j.split(\" \")[:-1]) for j in list_for_keys(i,1,mls)]) for i in keyset(1)] }#dag\n",
    "print(dict5)\n",
    "print(dict6)"
   ]
  },
  {
   "cell_type": "markdown",
   "metadata": {},
   "source": [
    "**_Oefening 13_** : \n",
    "\n",
    "Gebruik bovenstaande sets en set operaties om volgende te beantwoorden:\n",
    "\n",
    "**13.1** Geef alle jarigen uit de maand november van het jaar 1948\n",
    "\n",
    "**13.2** Geef alle jarigen die in de zomer van een oorlogsjaar geboren zijn\n",
    "\n",
    "**13.3** Schrijf een functie  𝑏𝑖𝑟𝑡ℎ_𝑦𝑒𝑎𝑟_𝑚𝑜𝑛𝑡ℎ_𝑑𝑎𝑦  die gegeven een jaartal, een maand en een dag alle personen teruggeven die op deze dag geboren werden. Kan je een voorbeeld vinden dat geen lege verzameling als resultaat geeft?\n"
   ]
  },
  {
   "cell_type": "code",
   "execution_count": 138,
   "metadata": {},
   "outputs": [
    {
     "name": "stdout",
     "output_type": "stream",
     "text": [
      "{'Prins Charles'}\n",
      "{'George Lukas', 'Steve Martin'}\n"
     ]
    }
   ],
   "source": [
    "jaren = {key:set(value) for (key, value) in [(i, [\" \".join(j.split(\" \")[:-1]) for j in list_for_keys(i,2,mls)]) for i in keyset(2)] }#jaar\n",
    "dagen = {key:set(value) for (key, value) in [(i, [\" \".join(j.split(\" \")[:-1]) for j in list_for_keys(i,1,mls)]) for i in keyset(1)] }#dag\n",
    "maanden = {key:set(value) for (key, value) in [(i, [\" \".join(j.split(\" \")[:-1]) for j in list_for_keys(i,0,mls)]) for i in keyset(0)] }#maand\n",
    "\n",
    "print(jaren[1948]&maanden[11])\n",
    "oorlogsjaren = set()\n",
    "for i in range(1914,1919):\n",
    "    try:\n",
    "        oorlogsjaren|=jaren[i]\n",
    "    except:\n",
    "        pass\n",
    "\n",
    "for i in range(1940,1946):\n",
    "    try:\n",
    "        oorlogsjaren|=jaren[i]\n",
    "    except:\n",
    "        pass\n",
    "zomer = set()\n",
    "for i in range(6,9):\n",
    "    try:\n",
    "        zomer|=maanden[i]\n",
    "    except:\n",
    "        pass\n",
    "for i in range(1, 32):\n",
    "    try:\n",
    "        if i>20:\n",
    "            idx = 9\n",
    "        else:\n",
    "            idx=5\n",
    "        zomer|=(maanden[idx]&dagen[i])\n",
    "    except:\n",
    "        pass\n",
    "print(oorlogsjaren&zomer)"
   ]
  },
  {
   "cell_type": "code",
   "execution_count": 142,
   "metadata": {
    "tags": []
   },
   "outputs": [
    {
     "name": "stdout",
     "output_type": "stream",
     "text": [
      "set()\n",
      "{'Johnny Cash'}\n"
     ]
    }
   ],
   "source": [
    "def birth_year_month_day(day, month, year):\n",
    "    try:\n",
    "        return jaren[year]&maanden[month]&dagen[day]\n",
    "    except:\n",
    "        return set()\n",
    "\n",
    "print(birth_year_month_day(1,1,1970))\n",
    "print(birth_year_month_day(26,2,1932))#02/26/1932"
   ]
  }
 ],
 "metadata": {
  "kernelspec": {
   "display_name": "Python 3 (ipykernel)",
   "language": "python",
   "name": "python3"
  },
  "language_info": {
   "codemirror_mode": {
    "name": "ipython",
    "version": 3
   },
   "file_extension": ".py",
   "mimetype": "text/x-python",
   "name": "python",
   "nbconvert_exporter": "python",
   "pygments_lexer": "ipython3",
   "version": "3.10.5"
  }
 },
 "nbformat": 4,
 "nbformat_minor": 4
}
